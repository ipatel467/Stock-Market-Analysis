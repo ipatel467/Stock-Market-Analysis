{
 "cells": [
  {
   "cell_type": "code",
   "execution_count": 1,
   "metadata": {},
   "outputs": [],
   "source": [
    "import numpy as np\n",
    "import pandas as pd\n",
    "import seaborn as sns\n",
    "import matplotlib.pyplot as plt\n",
    "from scipy.stats import iqr\n"
   ]
  },
  {
   "cell_type": "code",
   "execution_count": 2,
   "metadata": {},
   "outputs": [],
   "source": [
    "div_df_orginal = pd.read_csv('dividend_stocks_only.csv')"
   ]
  },
  {
   "cell_type": "code",
   "execution_count": 3,
   "metadata": {},
   "outputs": [],
   "source": [
    "div_df = div_df_orginal.copy()"
   ]
  },
  {
   "cell_type": "code",
   "execution_count": 4,
   "metadata": {},
   "outputs": [
    {
     "data": {
      "text/html": [
       "<div>\n",
       "<style scoped>\n",
       "    .dataframe tbody tr th:only-of-type {\n",
       "        vertical-align: middle;\n",
       "    }\n",
       "\n",
       "    .dataframe tbody tr th {\n",
       "        vertical-align: top;\n",
       "    }\n",
       "\n",
       "    .dataframe thead th {\n",
       "        text-align: right;\n",
       "    }\n",
       "</style>\n",
       "<table border=\"1\" class=\"dataframe\">\n",
       "  <thead>\n",
       "    <tr style=\"text-align: right;\">\n",
       "      <th></th>\n",
       "      <th>symbol</th>\n",
       "      <th>security_name</th>\n",
       "      <th>listing_exchange</th>\n",
       "      <th>etf</th>\n",
       "      <th>financial_status</th>\n",
       "      <th>zip</th>\n",
       "      <th>sector</th>\n",
       "      <th>fullTimeEmployees</th>\n",
       "      <th>city</th>\n",
       "      <th>state</th>\n",
       "      <th>...</th>\n",
       "      <th>enterpriseToRevenue</th>\n",
       "      <th>forwardEps</th>\n",
       "      <th>revenueQuarterlyGrowth</th>\n",
       "      <th>bookValue</th>\n",
       "      <th>sharesShort</th>\n",
       "      <th>shortRatio</th>\n",
       "      <th>floatShares</th>\n",
       "      <th>enterpriseValue</th>\n",
       "      <th>regularMarketPrice</th>\n",
       "      <th>latest_dividend</th>\n",
       "    </tr>\n",
       "  </thead>\n",
       "  <tbody>\n",
       "    <tr>\n",
       "      <th>0</th>\n",
       "      <td>A</td>\n",
       "      <td>Agilent Technologies, Inc. Common Stock</td>\n",
       "      <td>N</td>\n",
       "      <td>N</td>\n",
       "      <td>NaN</td>\n",
       "      <td>95051</td>\n",
       "      <td>Healthcare</td>\n",
       "      <td>16300.0</td>\n",
       "      <td>Santa Clara</td>\n",
       "      <td>CA</td>\n",
       "      <td>...</td>\n",
       "      <td>4.987</td>\n",
       "      <td>3.57</td>\n",
       "      <td>NaN</td>\n",
       "      <td>15.636</td>\n",
       "      <td>5258241.0</td>\n",
       "      <td>2.55</td>\n",
       "      <td>3.085180e+08</td>\n",
       "      <td>2.611031e+10</td>\n",
       "      <td>86.30</td>\n",
       "      <td>0.18</td>\n",
       "    </tr>\n",
       "    <tr>\n",
       "      <th>1</th>\n",
       "      <td>AAL</td>\n",
       "      <td>American Airlines Group, Inc. - Common Stock</td>\n",
       "      <td>Q</td>\n",
       "      <td>N</td>\n",
       "      <td>N</td>\n",
       "      <td>76155</td>\n",
       "      <td>Industrials</td>\n",
       "      <td>131500.0</td>\n",
       "      <td>Fort Worth</td>\n",
       "      <td>TX</td>\n",
       "      <td>...</td>\n",
       "      <td>0.796</td>\n",
       "      <td>-0.04</td>\n",
       "      <td>NaN</td>\n",
       "      <td>-6.233</td>\n",
       "      <td>119303588.0</td>\n",
       "      <td>1.49</td>\n",
       "      <td>4.167541e+08</td>\n",
       "      <td>3.478515e+10</td>\n",
       "      <td>12.43</td>\n",
       "      <td>0.10</td>\n",
       "    </tr>\n",
       "    <tr>\n",
       "      <th>2</th>\n",
       "      <td>AAP</td>\n",
       "      <td>Advance Auto Parts Inc Advance Auto Parts Inc W/I</td>\n",
       "      <td>N</td>\n",
       "      <td>N</td>\n",
       "      <td>NaN</td>\n",
       "      <td>27604</td>\n",
       "      <td>Consumer Cyclical</td>\n",
       "      <td>39000.0</td>\n",
       "      <td>Raleigh</td>\n",
       "      <td>NC</td>\n",
       "      <td>...</td>\n",
       "      <td>1.175</td>\n",
       "      <td>8.54</td>\n",
       "      <td>NaN</td>\n",
       "      <td>51.606</td>\n",
       "      <td>1691705.0</td>\n",
       "      <td>1.57</td>\n",
       "      <td>6.857524e+07</td>\n",
       "      <td>1.141075e+10</td>\n",
       "      <td>137.50</td>\n",
       "      <td>0.25</td>\n",
       "    </tr>\n",
       "    <tr>\n",
       "      <th>3</th>\n",
       "      <td>AAPL</td>\n",
       "      <td>Apple Inc. - Common Stock</td>\n",
       "      <td>Q</td>\n",
       "      <td>N</td>\n",
       "      <td>N</td>\n",
       "      <td>95014</td>\n",
       "      <td>Technology</td>\n",
       "      <td>137000.0</td>\n",
       "      <td>Cupertino</td>\n",
       "      <td>CA</td>\n",
       "      <td>...</td>\n",
       "      <td>5.108</td>\n",
       "      <td>14.73</td>\n",
       "      <td>NaN</td>\n",
       "      <td>18.137</td>\n",
       "      <td>33592445.0</td>\n",
       "      <td>0.89</td>\n",
       "      <td>4.329827e+09</td>\n",
       "      <td>1.368917e+12</td>\n",
       "      <td>316.14</td>\n",
       "      <td>0.82</td>\n",
       "    </tr>\n",
       "    <tr>\n",
       "      <th>4</th>\n",
       "      <td>AAT</td>\n",
       "      <td>American Assets Trust, Inc. Common Stock</td>\n",
       "      <td>N</td>\n",
       "      <td>N</td>\n",
       "      <td>NaN</td>\n",
       "      <td>92130</td>\n",
       "      <td>Real Estate</td>\n",
       "      <td>205.0</td>\n",
       "      <td>San Diego</td>\n",
       "      <td>CA</td>\n",
       "      <td>...</td>\n",
       "      <td>7.849</td>\n",
       "      <td>1.35</td>\n",
       "      <td>NaN</td>\n",
       "      <td>21.713</td>\n",
       "      <td>706006.0</td>\n",
       "      <td>1.70</td>\n",
       "      <td>5.308802e+07</td>\n",
       "      <td>2.936203e+09</td>\n",
       "      <td>28.01</td>\n",
       "      <td>0.30</td>\n",
       "    </tr>\n",
       "  </tbody>\n",
       "</table>\n",
       "<p>5 rows × 40 columns</p>\n",
       "</div>"
      ],
      "text/plain": [
       "  symbol                                      security_name listing_exchange  \\\n",
       "0      A            Agilent Technologies, Inc. Common Stock                N   \n",
       "1    AAL       American Airlines Group, Inc. - Common Stock                Q   \n",
       "2    AAP  Advance Auto Parts Inc Advance Auto Parts Inc W/I                N   \n",
       "3   AAPL                          Apple Inc. - Common Stock                Q   \n",
       "4    AAT           American Assets Trust, Inc. Common Stock                N   \n",
       "\n",
       "  etf financial_status    zip             sector  fullTimeEmployees  \\\n",
       "0   N              NaN  95051         Healthcare            16300.0   \n",
       "1   N                N  76155        Industrials           131500.0   \n",
       "2   N              NaN  27604  Consumer Cyclical            39000.0   \n",
       "3   N                N  95014         Technology           137000.0   \n",
       "4   N              NaN  92130        Real Estate              205.0   \n",
       "\n",
       "          city state  ... enterpriseToRevenue forwardEps  \\\n",
       "0  Santa Clara    CA  ...               4.987       3.57   \n",
       "1   Fort Worth    TX  ...               0.796      -0.04   \n",
       "2      Raleigh    NC  ...               1.175       8.54   \n",
       "3    Cupertino    CA  ...               5.108      14.73   \n",
       "4    San Diego    CA  ...               7.849       1.35   \n",
       "\n",
       "   revenueQuarterlyGrowth  bookValue  sharesShort  shortRatio   floatShares  \\\n",
       "0                     NaN     15.636    5258241.0        2.55  3.085180e+08   \n",
       "1                     NaN     -6.233  119303588.0        1.49  4.167541e+08   \n",
       "2                     NaN     51.606    1691705.0        1.57  6.857524e+07   \n",
       "3                     NaN     18.137   33592445.0        0.89  4.329827e+09   \n",
       "4                     NaN     21.713     706006.0        1.70  5.308802e+07   \n",
       "\n",
       "   enterpriseValue  regularMarketPrice  latest_dividend  \n",
       "0     2.611031e+10               86.30             0.18  \n",
       "1     3.478515e+10               12.43             0.10  \n",
       "2     1.141075e+10              137.50             0.25  \n",
       "3     1.368917e+12              316.14             0.82  \n",
       "4     2.936203e+09               28.01             0.30  \n",
       "\n",
       "[5 rows x 40 columns]"
      ]
     },
     "execution_count": 4,
     "metadata": {},
     "output_type": "execute_result"
    }
   ],
   "source": [
    "div_df.head()"
   ]
  },
  {
   "cell_type": "code",
   "execution_count": 5,
   "metadata": {},
   "outputs": [
    {
     "data": {
      "text/plain": [
       "symbol                            0\n",
       "security_name                     0\n",
       "listing_exchange                  0\n",
       "etf                               0\n",
       "financial_status               1305\n",
       "zip                              20\n",
       "sector                           13\n",
       "fullTimeEmployees               569\n",
       "city                              2\n",
       "state                           157\n",
       "country                           0\n",
       "industry                         13\n",
       "twoHundredDayAverage              0\n",
       "trailingAnnualDividendYield     170\n",
       "averageDailyVolume10Day           0\n",
       "regularMarketPreviousClose        0\n",
       "open                              0\n",
       "averageVolume10days               0\n",
       "dividendRate                      0\n",
       "regularMarketVolume               0\n",
       "marketCap                        17\n",
       "averageVolume                     0\n",
       "dayLow                            0\n",
       "ask                               0\n",
       "fiftyTwoWeekHigh                  0\n",
       "forwardPE                       588\n",
       "fiveYearAvgDividendYield        428\n",
       "dividendYield                     1\n",
       "bidSize                           0\n",
       "dayHigh                           0\n",
       "enterpriseToRevenue             223\n",
       "forwardEps                      586\n",
       "revenueQuarterlyGrowth         1939\n",
       "bookValue                       145\n",
       "sharesShort                      84\n",
       "shortRatio                       85\n",
       "floatShares                     435\n",
       "enterpriseValue                 119\n",
       "regularMarketPrice                0\n",
       "latest_dividend                   0\n",
       "dtype: int64"
      ]
     },
     "execution_count": 5,
     "metadata": {},
     "output_type": "execute_result"
    }
   ],
   "source": [
    "div_df.isna().sum()"
   ]
  },
  {
   "cell_type": "code",
   "execution_count": 6,
   "metadata": {},
   "outputs": [
    {
     "data": {
      "text/plain": [
       "(1939, 40)"
      ]
     },
     "execution_count": 6,
     "metadata": {},
     "output_type": "execute_result"
    }
   ],
   "source": [
    "div_df.shape"
   ]
  },
  {
   "cell_type": "code",
   "execution_count": 7,
   "metadata": {},
   "outputs": [],
   "source": [
    "div_df.drop(['revenueQuarterlyGrowth','financial_status'],axis=1,inplace = True)"
   ]
  },
  {
   "cell_type": "code",
   "execution_count": 8,
   "metadata": {},
   "outputs": [
    {
     "data": {
      "text/html": [
       "<div>\n",
       "<style scoped>\n",
       "    .dataframe tbody tr th:only-of-type {\n",
       "        vertical-align: middle;\n",
       "    }\n",
       "\n",
       "    .dataframe tbody tr th {\n",
       "        vertical-align: top;\n",
       "    }\n",
       "\n",
       "    .dataframe thead th {\n",
       "        text-align: right;\n",
       "    }\n",
       "</style>\n",
       "<table border=\"1\" class=\"dataframe\">\n",
       "  <thead>\n",
       "    <tr style=\"text-align: right;\">\n",
       "      <th></th>\n",
       "      <th>symbol</th>\n",
       "      <th>security_name</th>\n",
       "      <th>listing_exchange</th>\n",
       "      <th>etf</th>\n",
       "      <th>zip</th>\n",
       "      <th>sector</th>\n",
       "      <th>fullTimeEmployees</th>\n",
       "      <th>city</th>\n",
       "      <th>state</th>\n",
       "      <th>country</th>\n",
       "      <th>...</th>\n",
       "      <th>dayHigh</th>\n",
       "      <th>enterpriseToRevenue</th>\n",
       "      <th>forwardEps</th>\n",
       "      <th>bookValue</th>\n",
       "      <th>sharesShort</th>\n",
       "      <th>shortRatio</th>\n",
       "      <th>floatShares</th>\n",
       "      <th>enterpriseValue</th>\n",
       "      <th>regularMarketPrice</th>\n",
       "      <th>latest_dividend</th>\n",
       "    </tr>\n",
       "  </thead>\n",
       "  <tbody>\n",
       "    <tr>\n",
       "      <th>0</th>\n",
       "      <td>A</td>\n",
       "      <td>Agilent Technologies, Inc. Common Stock</td>\n",
       "      <td>N</td>\n",
       "      <td>N</td>\n",
       "      <td>95051</td>\n",
       "      <td>Healthcare</td>\n",
       "      <td>16300.0</td>\n",
       "      <td>Santa Clara</td>\n",
       "      <td>CA</td>\n",
       "      <td>United States</td>\n",
       "      <td>...</td>\n",
       "      <td>86.48</td>\n",
       "      <td>4.987</td>\n",
       "      <td>3.57</td>\n",
       "      <td>15.636</td>\n",
       "      <td>5258241.0</td>\n",
       "      <td>2.55</td>\n",
       "      <td>3.085180e+08</td>\n",
       "      <td>2.611031e+10</td>\n",
       "      <td>86.30</td>\n",
       "      <td>0.18</td>\n",
       "    </tr>\n",
       "    <tr>\n",
       "      <th>1</th>\n",
       "      <td>AAL</td>\n",
       "      <td>American Airlines Group, Inc. - Common Stock</td>\n",
       "      <td>Q</td>\n",
       "      <td>N</td>\n",
       "      <td>76155</td>\n",
       "      <td>Industrials</td>\n",
       "      <td>131500.0</td>\n",
       "      <td>Fort Worth</td>\n",
       "      <td>TX</td>\n",
       "      <td>United States</td>\n",
       "      <td>...</td>\n",
       "      <td>12.55</td>\n",
       "      <td>0.796</td>\n",
       "      <td>-0.04</td>\n",
       "      <td>-6.233</td>\n",
       "      <td>119303588.0</td>\n",
       "      <td>1.49</td>\n",
       "      <td>4.167541e+08</td>\n",
       "      <td>3.478515e+10</td>\n",
       "      <td>12.43</td>\n",
       "      <td>0.10</td>\n",
       "    </tr>\n",
       "    <tr>\n",
       "      <th>2</th>\n",
       "      <td>AAP</td>\n",
       "      <td>Advance Auto Parts Inc Advance Auto Parts Inc W/I</td>\n",
       "      <td>N</td>\n",
       "      <td>N</td>\n",
       "      <td>27604</td>\n",
       "      <td>Consumer Cyclical</td>\n",
       "      <td>39000.0</td>\n",
       "      <td>Raleigh</td>\n",
       "      <td>NC</td>\n",
       "      <td>United States</td>\n",
       "      <td>...</td>\n",
       "      <td>141.78</td>\n",
       "      <td>1.175</td>\n",
       "      <td>8.54</td>\n",
       "      <td>51.606</td>\n",
       "      <td>1691705.0</td>\n",
       "      <td>1.57</td>\n",
       "      <td>6.857524e+07</td>\n",
       "      <td>1.141075e+10</td>\n",
       "      <td>137.50</td>\n",
       "      <td>0.25</td>\n",
       "    </tr>\n",
       "    <tr>\n",
       "      <th>3</th>\n",
       "      <td>AAPL</td>\n",
       "      <td>Apple Inc. - Common Stock</td>\n",
       "      <td>Q</td>\n",
       "      <td>N</td>\n",
       "      <td>95014</td>\n",
       "      <td>Technology</td>\n",
       "      <td>137000.0</td>\n",
       "      <td>Cupertino</td>\n",
       "      <td>CA</td>\n",
       "      <td>United States</td>\n",
       "      <td>...</td>\n",
       "      <td>318.71</td>\n",
       "      <td>5.108</td>\n",
       "      <td>14.73</td>\n",
       "      <td>18.137</td>\n",
       "      <td>33592445.0</td>\n",
       "      <td>0.89</td>\n",
       "      <td>4.329827e+09</td>\n",
       "      <td>1.368917e+12</td>\n",
       "      <td>316.14</td>\n",
       "      <td>0.82</td>\n",
       "    </tr>\n",
       "    <tr>\n",
       "      <th>4</th>\n",
       "      <td>AAT</td>\n",
       "      <td>American Assets Trust, Inc. Common Stock</td>\n",
       "      <td>N</td>\n",
       "      <td>N</td>\n",
       "      <td>92130</td>\n",
       "      <td>Real Estate</td>\n",
       "      <td>205.0</td>\n",
       "      <td>San Diego</td>\n",
       "      <td>CA</td>\n",
       "      <td>United States</td>\n",
       "      <td>...</td>\n",
       "      <td>28.52</td>\n",
       "      <td>7.849</td>\n",
       "      <td>1.35</td>\n",
       "      <td>21.713</td>\n",
       "      <td>706006.0</td>\n",
       "      <td>1.70</td>\n",
       "      <td>5.308802e+07</td>\n",
       "      <td>2.936203e+09</td>\n",
       "      <td>28.01</td>\n",
       "      <td>0.30</td>\n",
       "    </tr>\n",
       "  </tbody>\n",
       "</table>\n",
       "<p>5 rows × 38 columns</p>\n",
       "</div>"
      ],
      "text/plain": [
       "  symbol                                      security_name listing_exchange  \\\n",
       "0      A            Agilent Technologies, Inc. Common Stock                N   \n",
       "1    AAL       American Airlines Group, Inc. - Common Stock                Q   \n",
       "2    AAP  Advance Auto Parts Inc Advance Auto Parts Inc W/I                N   \n",
       "3   AAPL                          Apple Inc. - Common Stock                Q   \n",
       "4    AAT           American Assets Trust, Inc. Common Stock                N   \n",
       "\n",
       "  etf    zip             sector  fullTimeEmployees         city state  \\\n",
       "0   N  95051         Healthcare            16300.0  Santa Clara    CA   \n",
       "1   N  76155        Industrials           131500.0   Fort Worth    TX   \n",
       "2   N  27604  Consumer Cyclical            39000.0      Raleigh    NC   \n",
       "3   N  95014         Technology           137000.0    Cupertino    CA   \n",
       "4   N  92130        Real Estate              205.0    San Diego    CA   \n",
       "\n",
       "         country  ... dayHigh  enterpriseToRevenue  forwardEps  bookValue  \\\n",
       "0  United States  ...   86.48                4.987        3.57     15.636   \n",
       "1  United States  ...   12.55                0.796       -0.04     -6.233   \n",
       "2  United States  ...  141.78                1.175        8.54     51.606   \n",
       "3  United States  ...  318.71                5.108       14.73     18.137   \n",
       "4  United States  ...   28.52                7.849        1.35     21.713   \n",
       "\n",
       "   sharesShort  shortRatio   floatShares  enterpriseValue  regularMarketPrice  \\\n",
       "0    5258241.0        2.55  3.085180e+08     2.611031e+10               86.30   \n",
       "1  119303588.0        1.49  4.167541e+08     3.478515e+10               12.43   \n",
       "2    1691705.0        1.57  6.857524e+07     1.141075e+10              137.50   \n",
       "3   33592445.0        0.89  4.329827e+09     1.368917e+12              316.14   \n",
       "4     706006.0        1.70  5.308802e+07     2.936203e+09               28.01   \n",
       "\n",
       "   latest_dividend  \n",
       "0             0.18  \n",
       "1             0.10  \n",
       "2             0.25  \n",
       "3             0.82  \n",
       "4             0.30  \n",
       "\n",
       "[5 rows x 38 columns]"
      ]
     },
     "execution_count": 8,
     "metadata": {},
     "output_type": "execute_result"
    }
   ],
   "source": [
    "div_df.head()"
   ]
  },
  {
   "cell_type": "code",
   "execution_count": 9,
   "metadata": {},
   "outputs": [
    {
     "data": {
      "text/plain": [
       "Index(['symbol', 'security_name', 'listing_exchange', 'etf', 'zip', 'sector',\n",
       "       'fullTimeEmployees', 'city', 'state', 'country', 'industry',\n",
       "       'twoHundredDayAverage', 'trailingAnnualDividendYield',\n",
       "       'averageDailyVolume10Day', 'regularMarketPreviousClose', 'open',\n",
       "       'averageVolume10days', 'dividendRate', 'regularMarketVolume',\n",
       "       'marketCap', 'averageVolume', 'dayLow', 'ask', 'fiftyTwoWeekHigh',\n",
       "       'forwardPE', 'fiveYearAvgDividendYield', 'dividendYield', 'bidSize',\n",
       "       'dayHigh', 'enterpriseToRevenue', 'forwardEps', 'bookValue',\n",
       "       'sharesShort', 'shortRatio', 'floatShares', 'enterpriseValue',\n",
       "       'regularMarketPrice', 'latest_dividend'],\n",
       "      dtype='object')"
      ]
     },
     "execution_count": 9,
     "metadata": {},
     "output_type": "execute_result"
    }
   ],
   "source": [
    "div_df.columns"
   ]
  },
  {
   "cell_type": "code",
   "execution_count": 10,
   "metadata": {},
   "outputs": [
    {
     "data": {
      "text/plain": [
       "<matplotlib.axes._subplots.AxesSubplot at 0x127f968d0>"
      ]
     },
     "execution_count": 10,
     "metadata": {},
     "output_type": "execute_result"
    },
    {
     "data": {
      "image/png": "[encoded data removed]",
      "text/plain": [
       "<Figure size 432x288 with 1 Axes>"
      ]
     },
     "metadata": {
      "needs_background": "light"
     },
     "output_type": "display_data"
    }
   ],
   "source": [
    "sns.scatterplot(data = div_df,x=div_df['fullTimeEmployees'],y=div_df['marketCap'])"
   ]
  },
  {
   "cell_type": "code",
   "execution_count": 11,
   "metadata": {},
   "outputs": [
    {
     "data": {
      "text/plain": [
       "<matplotlib.axes._subplots.AxesSubplot at 0x1299c4438>"
      ]
     },
     "execution_count": 11,
     "metadata": {},
     "output_type": "execute_result"
    },
    {
     "data": {
      "image/png": "[encoded data removed]",
      "text/plain": [
       "<Figure size 432x288 with 1 Axes>"
      ]
     },
     "metadata": {
      "needs_background": "light"
     },
     "output_type": "display_data"
    }
   ],
   "source": [
    "sns.scatterplot(data = div_df,x=div_df['marketCap'],y=div_df['trailingAnnualDividendYield'])"
   ]
  },
  {
   "cell_type": "code",
   "execution_count": 12,
   "metadata": {},
   "outputs": [
    {
     "data": {
      "text/plain": [
       "array(['N'], dtype=object)"
      ]
     },
     "execution_count": 12,
     "metadata": {},
     "output_type": "execute_result"
    }
   ],
   "source": [
    "div_df['etf'].unique()"
   ]
  },
  {
   "cell_type": "code",
   "execution_count": 13,
   "metadata": {},
   "outputs": [
    {
     "data": {
      "text/plain": [
       "<matplotlib.axes._subplots.AxesSubplot at 0x129972cf8>"
      ]
     },
     "execution_count": 13,
     "metadata": {},
     "output_type": "execute_result"
    },
    {
     "data": {
      "image/png": "[encoded data removed]",
      "text/plain": [
       "<Figure size 432x288 with 1 Axes>"
      ]
     },
     "metadata": {
      "needs_background": "light"
     },
     "output_type": "display_data"
    }
   ],
   "source": [
    "sns.scatterplot(data = div_df,x=div_df['marketCap'],y=div_df['bidSize'])"
   ]
  },
  {
   "cell_type": "code",
   "execution_count": 14,
   "metadata": {},
   "outputs": [
    {
     "data": {
      "text/plain": [
       "<matplotlib.axes._subplots.AxesSubplot at 0x129b36b38>"
      ]
     },
     "execution_count": 14,
     "metadata": {},
     "output_type": "execute_result"
    },
    {
     "data": {
      "image/png": "[encoded data removed]",
      "text/plain": [
       "<Figure size 432x288 with 1 Axes>"
      ]
     },
     "metadata": {
      "needs_background": "light"
     },
     "output_type": "display_data"
    }
   ],
   "source": [
    "sns.scatterplot(data = div_df,x=div_df['marketCap'],y=div_df['shortRatio'])"
   ]
  },
  {
   "cell_type": "code",
   "execution_count": 15,
   "metadata": {},
   "outputs": [
    {
     "data": {
      "text/plain": [
       "symbol                           0\n",
       "security_name                    0\n",
       "listing_exchange                 0\n",
       "etf                              0\n",
       "zip                             20\n",
       "sector                          13\n",
       "fullTimeEmployees              569\n",
       "city                             2\n",
       "state                          157\n",
       "country                          0\n",
       "industry                        13\n",
       "twoHundredDayAverage             0\n",
       "trailingAnnualDividendYield    170\n",
       "averageDailyVolume10Day          0\n",
       "regularMarketPreviousClose       0\n",
       "open                             0\n",
       "averageVolume10days              0\n",
       "dividendRate                     0\n",
       "regularMarketVolume              0\n",
       "marketCap                       17\n",
       "averageVolume                    0\n",
       "dayLow                           0\n",
       "ask                              0\n",
       "fiftyTwoWeekHigh                 0\n",
       "forwardPE                      588\n",
       "fiveYearAvgDividendYield       428\n",
       "dividendYield                    1\n",
       "bidSize                          0\n",
       "dayHigh                          0\n",
       "enterpriseToRevenue            223\n",
       "forwardEps                     586\n",
       "bookValue                      145\n",
       "sharesShort                     84\n",
       "shortRatio                      85\n",
       "floatShares                    435\n",
       "enterpriseValue                119\n",
       "regularMarketPrice               0\n",
       "latest_dividend                  0\n",
       "dtype: int64"
      ]
     },
     "execution_count": 15,
     "metadata": {},
     "output_type": "execute_result"
    }
   ],
   "source": [
    "div_df.isna().sum()"
   ]
  },
  {
   "cell_type": "code",
   "execution_count": 16,
   "metadata": {},
   "outputs": [],
   "source": [
    "# Remove outliers from dataset"
   ]
  },
  {
   "cell_type": "code",
   "execution_count": 17,
   "metadata": {},
   "outputs": [
    {
     "data": {
      "text/plain": [
       "<matplotlib.axes._subplots.AxesSubplot at 0x129bcd2b0>"
      ]
     },
     "execution_count": 17,
     "metadata": {},
     "output_type": "execute_result"
    },
    {
     "data": {
      "image/png": "[encoded data removed]",
      "text/plain": [
       "<Figure size 432x288 with 1 Axes>"
      ]
     },
     "metadata": {
      "needs_background": "light"
     },
     "output_type": "display_data"
    }
   ],
   "source": [
    "sns.boxplot(x= div_df['marketCap'])"
   ]
  },
  {
   "cell_type": "code",
   "execution_count": 18,
   "metadata": {},
   "outputs": [
    {
     "data": {
      "text/plain": [
       "<matplotlib.axes._subplots.AxesSubplot at 0x129bcdba8>"
      ]
     },
     "execution_count": 18,
     "metadata": {},
     "output_type": "execute_result"
    },
    {
     "data": {
      "image/png": "[encoded data removed]",
      "text/plain": [
       "<Figure size 432x288 with 1 Axes>"
      ]
     },
     "metadata": {
      "needs_background": "light"
     },
     "output_type": "display_data"
    }
   ],
   "source": [
    "sns.boxplot(x= div_df['fullTimeEmployees'])"
   ]
  },
  {
   "cell_type": "code",
   "execution_count": 19,
   "metadata": {},
   "outputs": [
    {
     "data": {
      "text/plain": [
       "<matplotlib.axes._subplots.AxesSubplot at 0x129e19780>"
      ]
     },
     "execution_count": 19,
     "metadata": {},
     "output_type": "execute_result"
    },
    {
     "data": {
      "image/png": "[encoded data removed]",
      "text/plain": [
       "<Figure size 432x288 with 1 Axes>"
      ]
     },
     "metadata": {
      "needs_background": "light"
     },
     "output_type": "display_data"
    }
   ],
   "source": [
    "sns.boxplot(x= div_df['regularMarketPrice'])"
   ]
  },
  {
   "cell_type": "code",
   "execution_count": 20,
   "metadata": {},
   "outputs": [
    {
     "data": {
      "text/plain": [
       "<matplotlib.axes._subplots.AxesSubplot at 0x12a038c50>"
      ]
     },
     "execution_count": 20,
     "metadata": {},
     "output_type": "execute_result"
    },
    {
     "data": {
      "image/png": "[encoded data removed]",
      "text/plain": [
       "<Figure size 432x288 with 1 Axes>"
      ]
     },
     "metadata": {
      "needs_background": "light"
     },
     "output_type": "display_data"
    }
   ],
   "source": [
    "sns.boxplot(x= div_df['enterpriseValue'])"
   ]
  },
  {
   "cell_type": "code",
   "execution_count": 21,
   "metadata": {},
   "outputs": [],
   "source": [
    "# One thing I may think of doing is filling in the null values with data before removing outliers."
   ]
  },
  {
   "cell_type": "code",
   "execution_count": 22,
   "metadata": {},
   "outputs": [
    {
     "name": "stdout",
     "output_type": "stream",
     "text": [
      "1.0\n",
      "2200000.0\n"
     ]
    }
   ],
   "source": [
    "# Get max and min full time employees\n",
    "print(div_df['fullTimeEmployees'].min())\n",
    "print(div_df['fullTimeEmployees'].max())"
   ]
  },
  {
   "cell_type": "code",
   "execution_count": null,
   "metadata": {},
   "outputs": [],
   "source": []
  },
  {
   "cell_type": "code",
   "execution_count": 23,
   "metadata": {},
   "outputs": [
    {
     "data": {
      "text/plain": [
       "<matplotlib.axes._subplots.AxesSubplot at 0x12a1427f0>"
      ]
     },
     "execution_count": 23,
     "metadata": {},
     "output_type": "execute_result"
    },
    {
     "data": {
      "image/png": "[encoded data removed]",
      "text/plain": [
       "<Figure size 432x288 with 1 Axes>"
      ]
     },
     "metadata": {
      "needs_background": "light"
     },
     "output_type": "display_data"
    }
   ],
   "source": [
    "sns.boxplot(x= div_df['fullTimeEmployees'])"
   ]
  },
  {
   "cell_type": "code",
   "execution_count": 24,
   "metadata": {},
   "outputs": [],
   "source": [
    "div_df = div_df[div_df.fullTimeEmployees != 2200000]"
   ]
  },
  {
   "cell_type": "code",
   "execution_count": 25,
   "metadata": {},
   "outputs": [
    {
     "data": {
      "image/png": "[encoded data removed]",
      "text/plain": [
       "<Figure size 432x288 with 1 Axes>"
      ]
     },
     "metadata": {
      "needs_background": "light"
     },
     "output_type": "display_data"
    }
   ],
   "source": [
    "sns.boxplot(x= div_df['fullTimeEmployees']);\n",
    "plt.title('Full Time Employees');"
   ]
  },
  {
   "cell_type": "code",
   "execution_count": 26,
   "metadata": {},
   "outputs": [],
   "source": [
    "div_df['fullTimeEmployees'].fillna(value=np.random.uniform(1,100000), inplace=True)"
   ]
  },
  {
   "cell_type": "code",
   "execution_count": 27,
   "metadata": {},
   "outputs": [
    {
     "data": {
      "text/plain": [
       "<matplotlib.axes._subplots.AxesSubplot at 0x12a150748>"
      ]
     },
     "execution_count": 27,
     "metadata": {},
     "output_type": "execute_result"
    },
    {
     "data": {
      "image/png": "[encoded data removed]",
      "text/plain": [
       "<Figure size 432x288 with 1 Axes>"
      ]
     },
     "metadata": {
      "needs_background": "light"
     },
     "output_type": "display_data"
    }
   ],
   "source": [
    "sns.boxplot(x= div_df['fullTimeEmployees'])"
   ]
  },
  {
   "cell_type": "code",
   "execution_count": 28,
   "metadata": {},
   "outputs": [
    {
     "data": {
      "text/plain": [
       "25940.063786574236"
      ]
     },
     "execution_count": 28,
     "metadata": {},
     "output_type": "execute_result"
    }
   ],
   "source": [
    "iqr(div_df['fullTimeEmployees'])"
   ]
  },
  {
   "cell_type": "code",
   "execution_count": 29,
   "metadata": {},
   "outputs": [
    {
     "data": {
      "text/plain": [
       "count      1938.000000\n",
       "mean      20374.240090\n",
       "std       38074.481101\n",
       "min           1.000000\n",
       "25%        1300.000000\n",
       "50%       10500.000000\n",
       "75%       27240.063787\n",
       "max      460724.000000\n",
       "Name: fullTimeEmployees, dtype: float64"
      ]
     },
     "execution_count": 29,
     "metadata": {},
     "output_type": "execute_result"
    }
   ],
   "source": [
    "div_df['fullTimeEmployees'].describe()"
   ]
  },
  {
   "cell_type": "code",
   "execution_count": 30,
   "metadata": {},
   "outputs": [],
   "source": [
    "# Outliers = Observations > Q3 + 1.5*IQR  or  Q1 – 1.5*IQR"
   ]
  },
  {
   "cell_type": "code",
   "execution_count": 31,
   "metadata": {},
   "outputs": [],
   "source": [
    "Q1fte = div_df['fullTimeEmployees'].quantile(0.25)\n",
    "Q3fte = div_df['fullTimeEmployees'].quantile(0.75)\n",
    "IQR = Q3fte-Q1fte"
   ]
  },
  {
   "cell_type": "code",
   "execution_count": null,
   "metadata": {},
   "outputs": [],
   "source": []
  },
  {
   "cell_type": "code",
   "execution_count": 32,
   "metadata": {},
   "outputs": [
    {
     "name": "stdout",
     "output_type": "stream",
     "text": [
      "0       False\n",
      "1       False\n",
      "2       False\n",
      "3       False\n",
      "4       False\n",
      "5       False\n",
      "6       False\n",
      "7       False\n",
      "8       False\n",
      "9       False\n",
      "10      False\n",
      "11      False\n",
      "12      False\n",
      "13      False\n",
      "14      False\n",
      "15      False\n",
      "16      False\n",
      "17      False\n",
      "18      False\n",
      "19      False\n",
      "20      False\n",
      "21      False\n",
      "22      False\n",
      "23      False\n",
      "24      False\n",
      "25      False\n",
      "26      False\n",
      "27      False\n",
      "28      False\n",
      "29      False\n",
      "        ...  \n",
      "1909    False\n",
      "1910    False\n",
      "1911    False\n",
      "1912    False\n",
      "1913    False\n",
      "1914    False\n",
      "1915    False\n",
      "1916    False\n",
      "1917    False\n",
      "1918    False\n",
      "1919    False\n",
      "1920    False\n",
      "1921    False\n",
      "1922    False\n",
      "1923    False\n",
      "1924    False\n",
      "1925    False\n",
      "1926    False\n",
      "1927    False\n",
      "1928    False\n",
      "1929    False\n",
      "1930    False\n",
      "1931    False\n",
      "1932    False\n",
      "1933    False\n",
      "1934    False\n",
      "1935    False\n",
      "1936    False\n",
      "1937    False\n",
      "1938    False\n",
      "Name: fullTimeEmployees, Length: 1938, dtype: bool\n"
     ]
    }
   ],
   "source": [
    "print(div_df['fullTimeEmployees'] < (Q1fte - 1.5 * IQR))"
   ]
  },
  {
   "cell_type": "code",
   "execution_count": 33,
   "metadata": {},
   "outputs": [],
   "source": [
    "# Find a way to group companies by size"
   ]
  },
  {
   "cell_type": "code",
   "execution_count": 34,
   "metadata": {},
   "outputs": [
    {
     "data": {
      "text/html": [
       "<div>\n",
       "<style scoped>\n",
       "    .dataframe tbody tr th:only-of-type {\n",
       "        vertical-align: middle;\n",
       "    }\n",
       "\n",
       "    .dataframe tbody tr th {\n",
       "        vertical-align: top;\n",
       "    }\n",
       "\n",
       "    .dataframe thead th {\n",
       "        text-align: right;\n",
       "    }\n",
       "</style>\n",
       "<table border=\"1\" class=\"dataframe\">\n",
       "  <thead>\n",
       "    <tr style=\"text-align: right;\">\n",
       "      <th></th>\n",
       "      <th>symbol</th>\n",
       "      <th>security_name</th>\n",
       "      <th>listing_exchange</th>\n",
       "      <th>etf</th>\n",
       "      <th>zip</th>\n",
       "      <th>sector</th>\n",
       "      <th>fullTimeEmployees</th>\n",
       "      <th>city</th>\n",
       "      <th>state</th>\n",
       "      <th>country</th>\n",
       "      <th>...</th>\n",
       "      <th>dayHigh</th>\n",
       "      <th>enterpriseToRevenue</th>\n",
       "      <th>forwardEps</th>\n",
       "      <th>bookValue</th>\n",
       "      <th>sharesShort</th>\n",
       "      <th>shortRatio</th>\n",
       "      <th>floatShares</th>\n",
       "      <th>enterpriseValue</th>\n",
       "      <th>regularMarketPrice</th>\n",
       "      <th>latest_dividend</th>\n",
       "    </tr>\n",
       "  </thead>\n",
       "  <tbody>\n",
       "    <tr>\n",
       "      <th>0</th>\n",
       "      <td>A</td>\n",
       "      <td>Agilent Technologies, Inc. Common Stock</td>\n",
       "      <td>N</td>\n",
       "      <td>N</td>\n",
       "      <td>95051</td>\n",
       "      <td>Healthcare</td>\n",
       "      <td>16300.0</td>\n",
       "      <td>Santa Clara</td>\n",
       "      <td>CA</td>\n",
       "      <td>United States</td>\n",
       "      <td>...</td>\n",
       "      <td>86.48</td>\n",
       "      <td>4.987</td>\n",
       "      <td>3.57</td>\n",
       "      <td>15.636</td>\n",
       "      <td>5258241.0</td>\n",
       "      <td>2.55</td>\n",
       "      <td>3.085180e+08</td>\n",
       "      <td>2.611031e+10</td>\n",
       "      <td>86.30</td>\n",
       "      <td>0.18</td>\n",
       "    </tr>\n",
       "    <tr>\n",
       "      <th>1</th>\n",
       "      <td>AAL</td>\n",
       "      <td>American Airlines Group, Inc. - Common Stock</td>\n",
       "      <td>Q</td>\n",
       "      <td>N</td>\n",
       "      <td>76155</td>\n",
       "      <td>Industrials</td>\n",
       "      <td>131500.0</td>\n",
       "      <td>Fort Worth</td>\n",
       "      <td>TX</td>\n",
       "      <td>United States</td>\n",
       "      <td>...</td>\n",
       "      <td>12.55</td>\n",
       "      <td>0.796</td>\n",
       "      <td>-0.04</td>\n",
       "      <td>-6.233</td>\n",
       "      <td>119303588.0</td>\n",
       "      <td>1.49</td>\n",
       "      <td>4.167541e+08</td>\n",
       "      <td>3.478515e+10</td>\n",
       "      <td>12.43</td>\n",
       "      <td>0.10</td>\n",
       "    </tr>\n",
       "    <tr>\n",
       "      <th>2</th>\n",
       "      <td>AAP</td>\n",
       "      <td>Advance Auto Parts Inc Advance Auto Parts Inc W/I</td>\n",
       "      <td>N</td>\n",
       "      <td>N</td>\n",
       "      <td>27604</td>\n",
       "      <td>Consumer Cyclical</td>\n",
       "      <td>39000.0</td>\n",
       "      <td>Raleigh</td>\n",
       "      <td>NC</td>\n",
       "      <td>United States</td>\n",
       "      <td>...</td>\n",
       "      <td>141.78</td>\n",
       "      <td>1.175</td>\n",
       "      <td>8.54</td>\n",
       "      <td>51.606</td>\n",
       "      <td>1691705.0</td>\n",
       "      <td>1.57</td>\n",
       "      <td>6.857524e+07</td>\n",
       "      <td>1.141075e+10</td>\n",
       "      <td>137.50</td>\n",
       "      <td>0.25</td>\n",
       "    </tr>\n",
       "    <tr>\n",
       "      <th>3</th>\n",
       "      <td>AAPL</td>\n",
       "      <td>Apple Inc. - Common Stock</td>\n",
       "      <td>Q</td>\n",
       "      <td>N</td>\n",
       "      <td>95014</td>\n",
       "      <td>Technology</td>\n",
       "      <td>137000.0</td>\n",
       "      <td>Cupertino</td>\n",
       "      <td>CA</td>\n",
       "      <td>United States</td>\n",
       "      <td>...</td>\n",
       "      <td>318.71</td>\n",
       "      <td>5.108</td>\n",
       "      <td>14.73</td>\n",
       "      <td>18.137</td>\n",
       "      <td>33592445.0</td>\n",
       "      <td>0.89</td>\n",
       "      <td>4.329827e+09</td>\n",
       "      <td>1.368917e+12</td>\n",
       "      <td>316.14</td>\n",
       "      <td>0.82</td>\n",
       "    </tr>\n",
       "    <tr>\n",
       "      <th>4</th>\n",
       "      <td>AAT</td>\n",
       "      <td>American Assets Trust, Inc. Common Stock</td>\n",
       "      <td>N</td>\n",
       "      <td>N</td>\n",
       "      <td>92130</td>\n",
       "      <td>Real Estate</td>\n",
       "      <td>205.0</td>\n",
       "      <td>San Diego</td>\n",
       "      <td>CA</td>\n",
       "      <td>United States</td>\n",
       "      <td>...</td>\n",
       "      <td>28.52</td>\n",
       "      <td>7.849</td>\n",
       "      <td>1.35</td>\n",
       "      <td>21.713</td>\n",
       "      <td>706006.0</td>\n",
       "      <td>1.70</td>\n",
       "      <td>5.308802e+07</td>\n",
       "      <td>2.936203e+09</td>\n",
       "      <td>28.01</td>\n",
       "      <td>0.30</td>\n",
       "    </tr>\n",
       "  </tbody>\n",
       "</table>\n",
       "<p>5 rows × 38 columns</p>\n",
       "</div>"
      ],
      "text/plain": [
       "  symbol                                      security_name listing_exchange  \\\n",
       "0      A            Agilent Technologies, Inc. Common Stock                N   \n",
       "1    AAL       American Airlines Group, Inc. - Common Stock                Q   \n",
       "2    AAP  Advance Auto Parts Inc Advance Auto Parts Inc W/I                N   \n",
       "3   AAPL                          Apple Inc. - Common Stock                Q   \n",
       "4    AAT           American Assets Trust, Inc. Common Stock                N   \n",
       "\n",
       "  etf    zip             sector  fullTimeEmployees         city state  \\\n",
       "0   N  95051         Healthcare            16300.0  Santa Clara    CA   \n",
       "1   N  76155        Industrials           131500.0   Fort Worth    TX   \n",
       "2   N  27604  Consumer Cyclical            39000.0      Raleigh    NC   \n",
       "3   N  95014         Technology           137000.0    Cupertino    CA   \n",
       "4   N  92130        Real Estate              205.0    San Diego    CA   \n",
       "\n",
       "         country  ... dayHigh  enterpriseToRevenue  forwardEps  bookValue  \\\n",
       "0  United States  ...   86.48                4.987        3.57     15.636   \n",
       "1  United States  ...   12.55                0.796       -0.04     -6.233   \n",
       "2  United States  ...  141.78                1.175        8.54     51.606   \n",
       "3  United States  ...  318.71                5.108       14.73     18.137   \n",
       "4  United States  ...   28.52                7.849        1.35     21.713   \n",
       "\n",
       "   sharesShort  shortRatio   floatShares  enterpriseValue  regularMarketPrice  \\\n",
       "0    5258241.0        2.55  3.085180e+08     2.611031e+10               86.30   \n",
       "1  119303588.0        1.49  4.167541e+08     3.478515e+10               12.43   \n",
       "2    1691705.0        1.57  6.857524e+07     1.141075e+10              137.50   \n",
       "3   33592445.0        0.89  4.329827e+09     1.368917e+12              316.14   \n",
       "4     706006.0        1.70  5.308802e+07     2.936203e+09               28.01   \n",
       "\n",
       "   latest_dividend  \n",
       "0             0.18  \n",
       "1             0.10  \n",
       "2             0.25  \n",
       "3             0.82  \n",
       "4             0.30  \n",
       "\n",
       "[5 rows x 38 columns]"
      ]
     },
     "execution_count": 34,
     "metadata": {},
     "output_type": "execute_result"
    }
   ],
   "source": [
    "div_df.head()"
   ]
  },
  {
   "cell_type": "code",
   "execution_count": 35,
   "metadata": {},
   "outputs": [
    {
     "data": {
      "text/plain": [
       "Financial Services        879\n",
       "Industrials               214\n",
       "Real Estate               170\n",
       "Energy                    121\n",
       "Consumer Cyclical         108\n",
       "Technology                107\n",
       "Basic Materials            95\n",
       "Utilities                  68\n",
       "Consumer Defensive         68\n",
       "Healthcare                 49\n",
       "Communication Services     45\n",
       "Financial                   1\n",
       "Name: sector, dtype: int64"
      ]
     },
     "execution_count": 35,
     "metadata": {},
     "output_type": "execute_result"
    }
   ],
   "source": [
    "div_df['sector'].value_counts()"
   ]
  },
  {
   "cell_type": "code",
   "execution_count": 36,
   "metadata": {},
   "outputs": [],
   "source": [
    "company_size_key = {'small': 100 ,'medium': 1000 , 'large': 1000000}"
   ]
  },
  {
   "cell_type": "code",
   "execution_count": 37,
   "metadata": {},
   "outputs": [
    {
     "data": {
      "text/html": [
       "<div>\n",
       "<style scoped>\n",
       "    .dataframe tbody tr th:only-of-type {\n",
       "        vertical-align: middle;\n",
       "    }\n",
       "\n",
       "    .dataframe tbody tr th {\n",
       "        vertical-align: top;\n",
       "    }\n",
       "\n",
       "    .dataframe thead th {\n",
       "        text-align: right;\n",
       "    }\n",
       "</style>\n",
       "<table border=\"1\" class=\"dataframe\">\n",
       "  <thead>\n",
       "    <tr style=\"text-align: right;\">\n",
       "      <th></th>\n",
       "      <th>symbol</th>\n",
       "      <th>security_name</th>\n",
       "      <th>listing_exchange</th>\n",
       "      <th>etf</th>\n",
       "      <th>zip</th>\n",
       "      <th>sector</th>\n",
       "      <th>fullTimeEmployees</th>\n",
       "      <th>city</th>\n",
       "      <th>state</th>\n",
       "      <th>country</th>\n",
       "      <th>...</th>\n",
       "      <th>dayHigh</th>\n",
       "      <th>enterpriseToRevenue</th>\n",
       "      <th>forwardEps</th>\n",
       "      <th>bookValue</th>\n",
       "      <th>sharesShort</th>\n",
       "      <th>shortRatio</th>\n",
       "      <th>floatShares</th>\n",
       "      <th>enterpriseValue</th>\n",
       "      <th>regularMarketPrice</th>\n",
       "      <th>latest_dividend</th>\n",
       "    </tr>\n",
       "  </thead>\n",
       "  <tbody>\n",
       "    <tr>\n",
       "      <th>0</th>\n",
       "      <td>A</td>\n",
       "      <td>Agilent Technologies, Inc. Common Stock</td>\n",
       "      <td>N</td>\n",
       "      <td>N</td>\n",
       "      <td>95051</td>\n",
       "      <td>Healthcare</td>\n",
       "      <td>16300.0</td>\n",
       "      <td>Santa Clara</td>\n",
       "      <td>CA</td>\n",
       "      <td>United States</td>\n",
       "      <td>...</td>\n",
       "      <td>86.48</td>\n",
       "      <td>4.987</td>\n",
       "      <td>3.57</td>\n",
       "      <td>15.636</td>\n",
       "      <td>5258241.0</td>\n",
       "      <td>2.55</td>\n",
       "      <td>3.085180e+08</td>\n",
       "      <td>2.611031e+10</td>\n",
       "      <td>86.30</td>\n",
       "      <td>0.18</td>\n",
       "    </tr>\n",
       "    <tr>\n",
       "      <th>1</th>\n",
       "      <td>AAL</td>\n",
       "      <td>American Airlines Group, Inc. - Common Stock</td>\n",
       "      <td>Q</td>\n",
       "      <td>N</td>\n",
       "      <td>76155</td>\n",
       "      <td>Industrials</td>\n",
       "      <td>131500.0</td>\n",
       "      <td>Fort Worth</td>\n",
       "      <td>TX</td>\n",
       "      <td>United States</td>\n",
       "      <td>...</td>\n",
       "      <td>12.55</td>\n",
       "      <td>0.796</td>\n",
       "      <td>-0.04</td>\n",
       "      <td>-6.233</td>\n",
       "      <td>119303588.0</td>\n",
       "      <td>1.49</td>\n",
       "      <td>4.167541e+08</td>\n",
       "      <td>3.478515e+10</td>\n",
       "      <td>12.43</td>\n",
       "      <td>0.10</td>\n",
       "    </tr>\n",
       "    <tr>\n",
       "      <th>2</th>\n",
       "      <td>AAP</td>\n",
       "      <td>Advance Auto Parts Inc Advance Auto Parts Inc W/I</td>\n",
       "      <td>N</td>\n",
       "      <td>N</td>\n",
       "      <td>27604</td>\n",
       "      <td>Consumer Cyclical</td>\n",
       "      <td>39000.0</td>\n",
       "      <td>Raleigh</td>\n",
       "      <td>NC</td>\n",
       "      <td>United States</td>\n",
       "      <td>...</td>\n",
       "      <td>141.78</td>\n",
       "      <td>1.175</td>\n",
       "      <td>8.54</td>\n",
       "      <td>51.606</td>\n",
       "      <td>1691705.0</td>\n",
       "      <td>1.57</td>\n",
       "      <td>6.857524e+07</td>\n",
       "      <td>1.141075e+10</td>\n",
       "      <td>137.50</td>\n",
       "      <td>0.25</td>\n",
       "    </tr>\n",
       "    <tr>\n",
       "      <th>3</th>\n",
       "      <td>AAPL</td>\n",
       "      <td>Apple Inc. - Common Stock</td>\n",
       "      <td>Q</td>\n",
       "      <td>N</td>\n",
       "      <td>95014</td>\n",
       "      <td>Technology</td>\n",
       "      <td>137000.0</td>\n",
       "      <td>Cupertino</td>\n",
       "      <td>CA</td>\n",
       "      <td>United States</td>\n",
       "      <td>...</td>\n",
       "      <td>318.71</td>\n",
       "      <td>5.108</td>\n",
       "      <td>14.73</td>\n",
       "      <td>18.137</td>\n",
       "      <td>33592445.0</td>\n",
       "      <td>0.89</td>\n",
       "      <td>4.329827e+09</td>\n",
       "      <td>1.368917e+12</td>\n",
       "      <td>316.14</td>\n",
       "      <td>0.82</td>\n",
       "    </tr>\n",
       "    <tr>\n",
       "      <th>4</th>\n",
       "      <td>AAT</td>\n",
       "      <td>American Assets Trust, Inc. Common Stock</td>\n",
       "      <td>N</td>\n",
       "      <td>N</td>\n",
       "      <td>92130</td>\n",
       "      <td>Real Estate</td>\n",
       "      <td>205.0</td>\n",
       "      <td>San Diego</td>\n",
       "      <td>CA</td>\n",
       "      <td>United States</td>\n",
       "      <td>...</td>\n",
       "      <td>28.52</td>\n",
       "      <td>7.849</td>\n",
       "      <td>1.35</td>\n",
       "      <td>21.713</td>\n",
       "      <td>706006.0</td>\n",
       "      <td>1.70</td>\n",
       "      <td>5.308802e+07</td>\n",
       "      <td>2.936203e+09</td>\n",
       "      <td>28.01</td>\n",
       "      <td>0.30</td>\n",
       "    </tr>\n",
       "  </tbody>\n",
       "</table>\n",
       "<p>5 rows × 38 columns</p>\n",
       "</div>"
      ],
      "text/plain": [
       "  symbol                                      security_name listing_exchange  \\\n",
       "0      A            Agilent Technologies, Inc. Common Stock                N   \n",
       "1    AAL       American Airlines Group, Inc. - Common Stock                Q   \n",
       "2    AAP  Advance Auto Parts Inc Advance Auto Parts Inc W/I                N   \n",
       "3   AAPL                          Apple Inc. - Common Stock                Q   \n",
       "4    AAT           American Assets Trust, Inc. Common Stock                N   \n",
       "\n",
       "  etf    zip             sector  fullTimeEmployees         city state  \\\n",
       "0   N  95051         Healthcare            16300.0  Santa Clara    CA   \n",
       "1   N  76155        Industrials           131500.0   Fort Worth    TX   \n",
       "2   N  27604  Consumer Cyclical            39000.0      Raleigh    NC   \n",
       "3   N  95014         Technology           137000.0    Cupertino    CA   \n",
       "4   N  92130        Real Estate              205.0    San Diego    CA   \n",
       "\n",
       "         country  ... dayHigh  enterpriseToRevenue  forwardEps  bookValue  \\\n",
       "0  United States  ...   86.48                4.987        3.57     15.636   \n",
       "1  United States  ...   12.55                0.796       -0.04     -6.233   \n",
       "2  United States  ...  141.78                1.175        8.54     51.606   \n",
       "3  United States  ...  318.71                5.108       14.73     18.137   \n",
       "4  United States  ...   28.52                7.849        1.35     21.713   \n",
       "\n",
       "   sharesShort  shortRatio   floatShares  enterpriseValue  regularMarketPrice  \\\n",
       "0    5258241.0        2.55  3.085180e+08     2.611031e+10               86.30   \n",
       "1  119303588.0        1.49  4.167541e+08     3.478515e+10               12.43   \n",
       "2    1691705.0        1.57  6.857524e+07     1.141075e+10              137.50   \n",
       "3   33592445.0        0.89  4.329827e+09     1.368917e+12              316.14   \n",
       "4     706006.0        1.70  5.308802e+07     2.936203e+09               28.01   \n",
       "\n",
       "   latest_dividend  \n",
       "0             0.18  \n",
       "1             0.10  \n",
       "2             0.25  \n",
       "3             0.82  \n",
       "4             0.30  \n",
       "\n",
       "[5 rows x 38 columns]"
      ]
     },
     "execution_count": 37,
     "metadata": {},
     "output_type": "execute_result"
    }
   ],
   "source": [
    "div_df.head()"
   ]
  },
  {
   "cell_type": "code",
   "execution_count": 38,
   "metadata": {},
   "outputs": [],
   "source": [
    "div_df['newcol'] = div_df['fullTimeEmployees']"
   ]
  },
  {
   "cell_type": "code",
   "execution_count": 39,
   "metadata": {},
   "outputs": [
    {
     "data": {
      "text/html": [
       "<div>\n",
       "<style scoped>\n",
       "    .dataframe tbody tr th:only-of-type {\n",
       "        vertical-align: middle;\n",
       "    }\n",
       "\n",
       "    .dataframe tbody tr th {\n",
       "        vertical-align: top;\n",
       "    }\n",
       "\n",
       "    .dataframe thead th {\n",
       "        text-align: right;\n",
       "    }\n",
       "</style>\n",
       "<table border=\"1\" class=\"dataframe\">\n",
       "  <thead>\n",
       "    <tr style=\"text-align: right;\">\n",
       "      <th></th>\n",
       "      <th>symbol</th>\n",
       "      <th>security_name</th>\n",
       "      <th>listing_exchange</th>\n",
       "      <th>etf</th>\n",
       "      <th>zip</th>\n",
       "      <th>sector</th>\n",
       "      <th>fullTimeEmployees</th>\n",
       "      <th>city</th>\n",
       "      <th>state</th>\n",
       "      <th>country</th>\n",
       "      <th>...</th>\n",
       "      <th>enterpriseToRevenue</th>\n",
       "      <th>forwardEps</th>\n",
       "      <th>bookValue</th>\n",
       "      <th>sharesShort</th>\n",
       "      <th>shortRatio</th>\n",
       "      <th>floatShares</th>\n",
       "      <th>enterpriseValue</th>\n",
       "      <th>regularMarketPrice</th>\n",
       "      <th>latest_dividend</th>\n",
       "      <th>newcol</th>\n",
       "    </tr>\n",
       "  </thead>\n",
       "  <tbody>\n",
       "    <tr>\n",
       "      <th>0</th>\n",
       "      <td>A</td>\n",
       "      <td>Agilent Technologies, Inc. Common Stock</td>\n",
       "      <td>N</td>\n",
       "      <td>N</td>\n",
       "      <td>95051</td>\n",
       "      <td>Healthcare</td>\n",
       "      <td>16300.0</td>\n",
       "      <td>Santa Clara</td>\n",
       "      <td>CA</td>\n",
       "      <td>United States</td>\n",
       "      <td>...</td>\n",
       "      <td>4.987</td>\n",
       "      <td>3.57</td>\n",
       "      <td>15.636</td>\n",
       "      <td>5258241.0</td>\n",
       "      <td>2.55</td>\n",
       "      <td>3.085180e+08</td>\n",
       "      <td>2.611031e+10</td>\n",
       "      <td>86.30</td>\n",
       "      <td>0.18</td>\n",
       "      <td>16300.0</td>\n",
       "    </tr>\n",
       "    <tr>\n",
       "      <th>1</th>\n",
       "      <td>AAL</td>\n",
       "      <td>American Airlines Group, Inc. - Common Stock</td>\n",
       "      <td>Q</td>\n",
       "      <td>N</td>\n",
       "      <td>76155</td>\n",
       "      <td>Industrials</td>\n",
       "      <td>131500.0</td>\n",
       "      <td>Fort Worth</td>\n",
       "      <td>TX</td>\n",
       "      <td>United States</td>\n",
       "      <td>...</td>\n",
       "      <td>0.796</td>\n",
       "      <td>-0.04</td>\n",
       "      <td>-6.233</td>\n",
       "      <td>119303588.0</td>\n",
       "      <td>1.49</td>\n",
       "      <td>4.167541e+08</td>\n",
       "      <td>3.478515e+10</td>\n",
       "      <td>12.43</td>\n",
       "      <td>0.10</td>\n",
       "      <td>131500.0</td>\n",
       "    </tr>\n",
       "    <tr>\n",
       "      <th>2</th>\n",
       "      <td>AAP</td>\n",
       "      <td>Advance Auto Parts Inc Advance Auto Parts Inc W/I</td>\n",
       "      <td>N</td>\n",
       "      <td>N</td>\n",
       "      <td>27604</td>\n",
       "      <td>Consumer Cyclical</td>\n",
       "      <td>39000.0</td>\n",
       "      <td>Raleigh</td>\n",
       "      <td>NC</td>\n",
       "      <td>United States</td>\n",
       "      <td>...</td>\n",
       "      <td>1.175</td>\n",
       "      <td>8.54</td>\n",
       "      <td>51.606</td>\n",
       "      <td>1691705.0</td>\n",
       "      <td>1.57</td>\n",
       "      <td>6.857524e+07</td>\n",
       "      <td>1.141075e+10</td>\n",
       "      <td>137.50</td>\n",
       "      <td>0.25</td>\n",
       "      <td>39000.0</td>\n",
       "    </tr>\n",
       "    <tr>\n",
       "      <th>3</th>\n",
       "      <td>AAPL</td>\n",
       "      <td>Apple Inc. - Common Stock</td>\n",
       "      <td>Q</td>\n",
       "      <td>N</td>\n",
       "      <td>95014</td>\n",
       "      <td>Technology</td>\n",
       "      <td>137000.0</td>\n",
       "      <td>Cupertino</td>\n",
       "      <td>CA</td>\n",
       "      <td>United States</td>\n",
       "      <td>...</td>\n",
       "      <td>5.108</td>\n",
       "      <td>14.73</td>\n",
       "      <td>18.137</td>\n",
       "      <td>33592445.0</td>\n",
       "      <td>0.89</td>\n",
       "      <td>4.329827e+09</td>\n",
       "      <td>1.368917e+12</td>\n",
       "      <td>316.14</td>\n",
       "      <td>0.82</td>\n",
       "      <td>137000.0</td>\n",
       "    </tr>\n",
       "    <tr>\n",
       "      <th>4</th>\n",
       "      <td>AAT</td>\n",
       "      <td>American Assets Trust, Inc. Common Stock</td>\n",
       "      <td>N</td>\n",
       "      <td>N</td>\n",
       "      <td>92130</td>\n",
       "      <td>Real Estate</td>\n",
       "      <td>205.0</td>\n",
       "      <td>San Diego</td>\n",
       "      <td>CA</td>\n",
       "      <td>United States</td>\n",
       "      <td>...</td>\n",
       "      <td>7.849</td>\n",
       "      <td>1.35</td>\n",
       "      <td>21.713</td>\n",
       "      <td>706006.0</td>\n",
       "      <td>1.70</td>\n",
       "      <td>5.308802e+07</td>\n",
       "      <td>2.936203e+09</td>\n",
       "      <td>28.01</td>\n",
       "      <td>0.30</td>\n",
       "      <td>205.0</td>\n",
       "    </tr>\n",
       "  </tbody>\n",
       "</table>\n",
       "<p>5 rows × 39 columns</p>\n",
       "</div>"
      ],
      "text/plain": [
       "  symbol                                      security_name listing_exchange  \\\n",
       "0      A            Agilent Technologies, Inc. Common Stock                N   \n",
       "1    AAL       American Airlines Group, Inc. - Common Stock                Q   \n",
       "2    AAP  Advance Auto Parts Inc Advance Auto Parts Inc W/I                N   \n",
       "3   AAPL                          Apple Inc. - Common Stock                Q   \n",
       "4    AAT           American Assets Trust, Inc. Common Stock                N   \n",
       "\n",
       "  etf    zip             sector  fullTimeEmployees         city state  \\\n",
       "0   N  95051         Healthcare            16300.0  Santa Clara    CA   \n",
       "1   N  76155        Industrials           131500.0   Fort Worth    TX   \n",
       "2   N  27604  Consumer Cyclical            39000.0      Raleigh    NC   \n",
       "3   N  95014         Technology           137000.0    Cupertino    CA   \n",
       "4   N  92130        Real Estate              205.0    San Diego    CA   \n",
       "\n",
       "         country  ... enterpriseToRevenue  forwardEps  bookValue  sharesShort  \\\n",
       "0  United States  ...               4.987        3.57     15.636    5258241.0   \n",
       "1  United States  ...               0.796       -0.04     -6.233  119303588.0   \n",
       "2  United States  ...               1.175        8.54     51.606    1691705.0   \n",
       "3  United States  ...               5.108       14.73     18.137   33592445.0   \n",
       "4  United States  ...               7.849        1.35     21.713     706006.0   \n",
       "\n",
       "   shortRatio   floatShares  enterpriseValue  regularMarketPrice  \\\n",
       "0        2.55  3.085180e+08     2.611031e+10               86.30   \n",
       "1        1.49  4.167541e+08     3.478515e+10               12.43   \n",
       "2        1.57  6.857524e+07     1.141075e+10              137.50   \n",
       "3        0.89  4.329827e+09     1.368917e+12              316.14   \n",
       "4        1.70  5.308802e+07     2.936203e+09               28.01   \n",
       "\n",
       "   latest_dividend    newcol  \n",
       "0             0.18   16300.0  \n",
       "1             0.10  131500.0  \n",
       "2             0.25   39000.0  \n",
       "3             0.82  137000.0  \n",
       "4             0.30     205.0  \n",
       "\n",
       "[5 rows x 39 columns]"
      ]
     },
     "execution_count": 39,
     "metadata": {},
     "output_type": "execute_result"
    }
   ],
   "source": [
    "div_df.head()"
   ]
  },
  {
   "cell_type": "code",
   "execution_count": 40,
   "metadata": {},
   "outputs": [],
   "source": [
    "div_df['size'] = div_df['newcol']"
   ]
  },
  {
   "cell_type": "code",
   "execution_count": 41,
   "metadata": {},
   "outputs": [
    {
     "data": {
      "text/plain": [
       "(1938, 40)"
      ]
     },
     "execution_count": 41,
     "metadata": {},
     "output_type": "execute_result"
    }
   ],
   "source": [
    "div_df.shape"
   ]
  },
  {
   "cell_type": "code",
   "execution_count": 42,
   "metadata": {},
   "outputs": [
    {
     "data": {
      "text/plain": [
       "(97, 40)"
      ]
     },
     "execution_count": 42,
     "metadata": {},
     "output_type": "execute_result"
    }
   ],
   "source": [
    "div_df[div_df['size']<100].shape"
   ]
  },
  {
   "cell_type": "code",
   "execution_count": 43,
   "metadata": {},
   "outputs": [],
   "source": [
    "#def emp_bins(x):\n",
    "#    \n",
    "#    emp_bins = ['100-','100+','1000+']\n",
    "#    \n",
    "#    for i,n in enumerate(range(0,100000,1000)):\n",
    "#        if x < n:\n",
    "#            return emp_bins[i]\n",
    "#"
   ]
  },
  {
   "cell_type": "code",
   "execution_count": 44,
   "metadata": {},
   "outputs": [],
   "source": [
    "#div_df['size'] =div_df['size'].map(lambda x: emp_bins(x))\n",
    "#rides_temp_df.rename(columns={'temp':'temp_bins'})"
   ]
  },
  {
   "cell_type": "code",
   "execution_count": 45,
   "metadata": {},
   "outputs": [],
   "source": [
    "small = div_df[div_df['size']<100]"
   ]
  },
  {
   "cell_type": "code",
   "execution_count": 46,
   "metadata": {},
   "outputs": [],
   "source": [
    "medium = div_df[(div_df['size']>=100)&(div_df['size']<999)]"
   ]
  },
  {
   "cell_type": "code",
   "execution_count": 47,
   "metadata": {},
   "outputs": [],
   "source": [
    "large = div_df[div_df['size']>999]"
   ]
  },
  {
   "cell_type": "code",
   "execution_count": 48,
   "metadata": {},
   "outputs": [
    {
     "name": "stdout",
     "output_type": "stream",
     "text": [
      "(97, 40)\n",
      "(343, 40)\n",
      "(1498, 40)\n"
     ]
    }
   ],
   "source": [
    "print(small.shape)\n",
    "print(medium.shape)\n",
    "print(large.shape)"
   ]
  },
  {
   "cell_type": "code",
   "execution_count": 49,
   "metadata": {},
   "outputs": [
    {
     "data": {
      "text/html": [
       "<div>\n",
       "<style scoped>\n",
       "    .dataframe tbody tr th:only-of-type {\n",
       "        vertical-align: middle;\n",
       "    }\n",
       "\n",
       "    .dataframe tbody tr th {\n",
       "        vertical-align: top;\n",
       "    }\n",
       "\n",
       "    .dataframe thead th {\n",
       "        text-align: right;\n",
       "    }\n",
       "</style>\n",
       "<table border=\"1\" class=\"dataframe\">\n",
       "  <thead>\n",
       "    <tr style=\"text-align: right;\">\n",
       "      <th></th>\n",
       "      <th>symbol</th>\n",
       "      <th>security_name</th>\n",
       "      <th>listing_exchange</th>\n",
       "      <th>etf</th>\n",
       "      <th>zip</th>\n",
       "      <th>sector</th>\n",
       "      <th>fullTimeEmployees</th>\n",
       "      <th>city</th>\n",
       "      <th>state</th>\n",
       "      <th>country</th>\n",
       "      <th>...</th>\n",
       "      <th>forwardEps</th>\n",
       "      <th>bookValue</th>\n",
       "      <th>sharesShort</th>\n",
       "      <th>shortRatio</th>\n",
       "      <th>floatShares</th>\n",
       "      <th>enterpriseValue</th>\n",
       "      <th>regularMarketPrice</th>\n",
       "      <th>latest_dividend</th>\n",
       "      <th>newcol</th>\n",
       "      <th>size</th>\n",
       "    </tr>\n",
       "  </thead>\n",
       "  <tbody>\n",
       "    <tr>\n",
       "      <th>12</th>\n",
       "      <td>AC</td>\n",
       "      <td>Associated Capital Group, Inc. Common Stock</td>\n",
       "      <td>N</td>\n",
       "      <td>N</td>\n",
       "      <td>10580</td>\n",
       "      <td>Financial Services</td>\n",
       "      <td>39.0</td>\n",
       "      <td>Rye</td>\n",
       "      <td>NY</td>\n",
       "      <td>United States</td>\n",
       "      <td>...</td>\n",
       "      <td>2.59</td>\n",
       "      <td>36.611</td>\n",
       "      <td>196192.0</td>\n",
       "      <td>10.61</td>\n",
       "      <td>3337299.0</td>\n",
       "      <td>4.792149e+08</td>\n",
       "      <td>42.11</td>\n",
       "      <td>0.100</td>\n",
       "      <td>39.0</td>\n",
       "      <td>39.0</td>\n",
       "    </tr>\n",
       "    <tr>\n",
       "      <th>23</th>\n",
       "      <td>ADC</td>\n",
       "      <td>Agree Realty Corporation Common Stock</td>\n",
       "      <td>N</td>\n",
       "      <td>N</td>\n",
       "      <td>48304</td>\n",
       "      <td>Real Estate</td>\n",
       "      <td>41.0</td>\n",
       "      <td>Bloomfield Hills</td>\n",
       "      <td>MI</td>\n",
       "      <td>United States</td>\n",
       "      <td>...</td>\n",
       "      <td>1.76</td>\n",
       "      <td>37.483</td>\n",
       "      <td>7650448.0</td>\n",
       "      <td>8.52</td>\n",
       "      <td>45892725.0</td>\n",
       "      <td>4.230171e+09</td>\n",
       "      <td>66.35</td>\n",
       "      <td>0.585</td>\n",
       "      <td>41.0</td>\n",
       "      <td>41.0</td>\n",
       "    </tr>\n",
       "    <tr>\n",
       "      <th>47</th>\n",
       "      <td>AGNC</td>\n",
       "      <td>AGNC Investment Corp. - Common Stock</td>\n",
       "      <td>Q</td>\n",
       "      <td>N</td>\n",
       "      <td>20814</td>\n",
       "      <td>Real Estate</td>\n",
       "      <td>51.0</td>\n",
       "      <td>Bethesda</td>\n",
       "      <td>MD</td>\n",
       "      <td>United States</td>\n",
       "      <td>...</td>\n",
       "      <td>1.91</td>\n",
       "      <td>14.636</td>\n",
       "      <td>13832623.0</td>\n",
       "      <td>1.00</td>\n",
       "      <td>555558553.0</td>\n",
       "      <td>6.859663e+10</td>\n",
       "      <td>13.61</td>\n",
       "      <td>0.120</td>\n",
       "      <td>51.0</td>\n",
       "      <td>51.0</td>\n",
       "    </tr>\n",
       "    <tr>\n",
       "      <th>48</th>\n",
       "      <td>AGNCM</td>\n",
       "      <td>AGNC Investment Corp. - Depositary Shares rep ...</td>\n",
       "      <td>Q</td>\n",
       "      <td>N</td>\n",
       "      <td>20814</td>\n",
       "      <td>Real Estate</td>\n",
       "      <td>51.0</td>\n",
       "      <td>Bethesda</td>\n",
       "      <td>MD</td>\n",
       "      <td>United States</td>\n",
       "      <td>...</td>\n",
       "      <td>NaN</td>\n",
       "      <td>14.636</td>\n",
       "      <td>NaN</td>\n",
       "      <td>NaN</td>\n",
       "      <td>555558553.0</td>\n",
       "      <td>7.422655e+10</td>\n",
       "      <td>22.72</td>\n",
       "      <td>0.430</td>\n",
       "      <td>51.0</td>\n",
       "      <td>51.0</td>\n",
       "    </tr>\n",
       "    <tr>\n",
       "      <th>49</th>\n",
       "      <td>AGNCN</td>\n",
       "      <td>AGNC Investment Corp. - Depositary Shares Each...</td>\n",
       "      <td>Q</td>\n",
       "      <td>N</td>\n",
       "      <td>20814</td>\n",
       "      <td>Real Estate</td>\n",
       "      <td>51.0</td>\n",
       "      <td>Bethesda</td>\n",
       "      <td>MD</td>\n",
       "      <td>United States</td>\n",
       "      <td>...</td>\n",
       "      <td>NaN</td>\n",
       "      <td>14.636</td>\n",
       "      <td>NaN</td>\n",
       "      <td>NaN</td>\n",
       "      <td>555558553.0</td>\n",
       "      <td>7.453420e+10</td>\n",
       "      <td>23.44</td>\n",
       "      <td>0.438</td>\n",
       "      <td>51.0</td>\n",
       "      <td>51.0</td>\n",
       "    </tr>\n",
       "  </tbody>\n",
       "</table>\n",
       "<p>5 rows × 40 columns</p>\n",
       "</div>"
      ],
      "text/plain": [
       "   symbol                                      security_name listing_exchange  \\\n",
       "12     AC        Associated Capital Group, Inc. Common Stock                N   \n",
       "23    ADC              Agree Realty Corporation Common Stock                N   \n",
       "47   AGNC               AGNC Investment Corp. - Common Stock                Q   \n",
       "48  AGNCM  AGNC Investment Corp. - Depositary Shares rep ...                Q   \n",
       "49  AGNCN  AGNC Investment Corp. - Depositary Shares Each...                Q   \n",
       "\n",
       "   etf    zip              sector  fullTimeEmployees              city state  \\\n",
       "12   N  10580  Financial Services               39.0               Rye    NY   \n",
       "23   N  48304         Real Estate               41.0  Bloomfield Hills    MI   \n",
       "47   N  20814         Real Estate               51.0          Bethesda    MD   \n",
       "48   N  20814         Real Estate               51.0          Bethesda    MD   \n",
       "49   N  20814         Real Estate               51.0          Bethesda    MD   \n",
       "\n",
       "          country  ... forwardEps  bookValue  sharesShort  shortRatio  \\\n",
       "12  United States  ...       2.59     36.611     196192.0       10.61   \n",
       "23  United States  ...       1.76     37.483    7650448.0        8.52   \n",
       "47  United States  ...       1.91     14.636   13832623.0        1.00   \n",
       "48  United States  ...        NaN     14.636          NaN         NaN   \n",
       "49  United States  ...        NaN     14.636          NaN         NaN   \n",
       "\n",
       "    floatShares  enterpriseValue  regularMarketPrice  latest_dividend  newcol  \\\n",
       "12    3337299.0     4.792149e+08               42.11            0.100    39.0   \n",
       "23   45892725.0     4.230171e+09               66.35            0.585    41.0   \n",
       "47  555558553.0     6.859663e+10               13.61            0.120    51.0   \n",
       "48  555558553.0     7.422655e+10               22.72            0.430    51.0   \n",
       "49  555558553.0     7.453420e+10               23.44            0.438    51.0   \n",
       "\n",
       "    size  \n",
       "12  39.0  \n",
       "23  41.0  \n",
       "47  51.0  \n",
       "48  51.0  \n",
       "49  51.0  \n",
       "\n",
       "[5 rows x 40 columns]"
      ]
     },
     "execution_count": 49,
     "metadata": {},
     "output_type": "execute_result"
    }
   ],
   "source": [
    "small.head()"
   ]
  },
  {
   "cell_type": "code",
   "execution_count": 50,
   "metadata": {},
   "outputs": [
    {
     "data": {
      "text/plain": [
       "<matplotlib.axes._subplots.AxesSubplot at 0x12a3e4630>"
      ]
     },
     "execution_count": 50,
     "metadata": {},
     "output_type": "execute_result"
    },
    {
     "data": {
      "image/png": "[encoded data removed]",
      "text/plain": [
       "<Figure size 432x288 with 1 Axes>"
      ]
     },
     "metadata": {
      "needs_background": "light"
     },
     "output_type": "display_data"
    }
   ],
   "source": [
    "small['fullTimeEmployees'].hist()"
   ]
  },
  {
   "cell_type": "code",
   "execution_count": 51,
   "metadata": {},
   "outputs": [
    {
     "data": {
      "text/plain": [
       "<matplotlib.axes._subplots.AxesSubplot at 0x12a606470>"
      ]
     },
     "execution_count": 51,
     "metadata": {},
     "output_type": "execute_result"
    },
    {
     "data": {
      "image/png": "[encoded data removed]",
      "text/plain": [
       "<Figure size 432x288 with 1 Axes>"
      ]
     },
     "metadata": {
      "needs_background": "light"
     },
     "output_type": "display_data"
    }
   ],
   "source": [
    "sns.scatterplot(data = small, x= small['fullTimeEmployees'],y=small['marketCap'])"
   ]
  },
  {
   "cell_type": "code",
   "execution_count": 52,
   "metadata": {},
   "outputs": [
    {
     "data": {
      "text/plain": [
       "<matplotlib.axes._subplots.AxesSubplot at 0x12a537dd8>"
      ]
     },
     "execution_count": 52,
     "metadata": {},
     "output_type": "execute_result"
    },
    {
     "data": {
      "image/png": "[encoded data removed]",
      "text/plain": [
       "<Figure size 432x288 with 1 Axes>"
      ]
     },
     "metadata": {
      "needs_background": "light"
     },
     "output_type": "display_data"
    }
   ],
   "source": [
    "sns.scatterplot(data = small, x= small['fullTimeEmployees'],y=small['bookValue'])"
   ]
  },
  {
   "cell_type": "code",
   "execution_count": 53,
   "metadata": {},
   "outputs": [
    {
     "data": {
      "text/plain": [
       "<matplotlib.axes._subplots.AxesSubplot at 0x12a636d30>"
      ]
     },
     "execution_count": 53,
     "metadata": {},
     "output_type": "execute_result"
    },
    {
     "data": {
      "image/png": "[encoded data removed]",
      "text/plain": [
       "<Figure size 432x288 with 1 Axes>"
      ]
     },
     "metadata": {
      "needs_background": "light"
     },
     "output_type": "display_data"
    }
   ],
   "source": [
    "sns.scatterplot(data = small, x= small['fullTimeEmployees'],y=small['regularMarketPrice'])"
   ]
  },
  {
   "cell_type": "code",
   "execution_count": 54,
   "metadata": {},
   "outputs": [
    {
     "data": {
      "text/plain": [
       "<matplotlib.axes._subplots.AxesSubplot at 0x12a7b8cf8>"
      ]
     },
     "execution_count": 54,
     "metadata": {},
     "output_type": "execute_result"
    },
    {
     "data": {
      "image/png": "[encoded data removed]",
      "text/plain": [
       "<Figure size 432x288 with 1 Axes>"
      ]
     },
     "metadata": {
      "needs_background": "light"
     },
     "output_type": "display_data"
    }
   ],
   "source": [
    "sns.scatterplot(data = small, x= small['marketCap'],y=small['forwardEps'])"
   ]
  },
  {
   "cell_type": "code",
   "execution_count": 55,
   "metadata": {},
   "outputs": [
    {
     "data": {
      "text/plain": [
       "<matplotlib.axes._subplots.AxesSubplot at 0x12aa37630>"
      ]
     },
     "execution_count": 55,
     "metadata": {},
     "output_type": "execute_result"
    },
    {
     "data": {
      "image/png": "[encoded data removed]",
      "text/plain": [
       "<Figure size 432x288 with 1 Axes>"
      ]
     },
     "metadata": {
      "needs_background": "light"
     },
     "output_type": "display_data"
    }
   ],
   "source": [
    "sns.scatterplot(data = small, x= small['marketCap'],y=small['floatShares'])"
   ]
  },
  {
   "cell_type": "code",
   "execution_count": null,
   "metadata": {},
   "outputs": [],
   "source": []
  },
  {
   "cell_type": "code",
   "execution_count": 56,
   "metadata": {},
   "outputs": [
    {
     "data": {
      "text/plain": [
       "<matplotlib.axes._subplots.AxesSubplot at 0x12a9e62b0>"
      ]
     },
     "execution_count": 56,
     "metadata": {},
     "output_type": "execute_result"
    },
    {
     "data": {
      "image/png": "[encoded data removed]",
      "text/plain": [
       "<Figure size 432x288 with 1 Axes>"
      ]
     },
     "metadata": {
      "needs_background": "light"
     },
     "output_type": "display_data"
    }
   ],
   "source": [
    "medium['fullTimeEmployees'].hist()"
   ]
  },
  {
   "cell_type": "code",
   "execution_count": 57,
   "metadata": {},
   "outputs": [
    {
     "data": {
      "text/plain": [
       "<matplotlib.axes._subplots.AxesSubplot at 0x12ac81780>"
      ]
     },
     "execution_count": 57,
     "metadata": {},
     "output_type": "execute_result"
    },
    {
     "data": {
      "image/png": "[encoded data removed]",
      "text/plain": [
       "<Figure size 432x288 with 1 Axes>"
      ]
     },
     "metadata": {
      "needs_background": "light"
     },
     "output_type": "display_data"
    }
   ],
   "source": [
    "large['fullTimeEmployees'].hist()"
   ]
  },
  {
   "cell_type": "code",
   "execution_count": 58,
   "metadata": {},
   "outputs": [
    {
     "data": {
      "image/png": "[encoded data removed]",
      "text/plain": [
       "<Figure size 432x288 with 1 Axes>"
      ]
     },
     "metadata": {
      "needs_background": "light"
     },
     "output_type": "display_data"
    }
   ],
   "source": [
    "sns.boxplot(x= small['fullTimeEmployees']);\n",
    "plt.title('Small Companies Full Time Employees');"
   ]
  },
  {
   "cell_type": "code",
   "execution_count": 59,
   "metadata": {},
   "outputs": [
    {
     "data": {
      "image/png": "[encoded data removed]",
      "text/plain": [
       "<Figure size 432x288 with 1 Axes>"
      ]
     },
     "metadata": {
      "needs_background": "light"
     },
     "output_type": "display_data"
    }
   ],
   "source": [
    "sns.boxplot(x= medium['fullTimeEmployees'])\n",
    "plt.title('Medium Companies Full Time Employees');"
   ]
  },
  {
   "cell_type": "code",
   "execution_count": 60,
   "metadata": {},
   "outputs": [
    {
     "data": {
      "image/png": "[encoded data removed]",
      "text/plain": [
       "<Figure size 432x288 with 1 Axes>"
      ]
     },
     "metadata": {
      "needs_background": "light"
     },
     "output_type": "display_data"
    }
   ],
   "source": [
    "sns.boxplot(x= large['fullTimeEmployees'])\n",
    "plt.title('Large Companies Full Time Employees');"
   ]
  },
  {
   "cell_type": "code",
   "execution_count": 61,
   "metadata": {},
   "outputs": [
    {
     "data": {
      "text/plain": [
       "<matplotlib.axes._subplots.AxesSubplot at 0x12b0c7518>"
      ]
     },
     "execution_count": 61,
     "metadata": {},
     "output_type": "execute_result"
    },
    {
     "data": {
      "image/png": "[encoded data removed]",
      "text/plain": [
       "<Figure size 432x288 with 1 Axes>"
      ]
     },
     "metadata": {
      "needs_background": "light"
     },
     "output_type": "display_data"
    }
   ],
   "source": [
    "sns.boxplot(x= large['marketCap'])"
   ]
  },
  {
   "cell_type": "code",
   "execution_count": 62,
   "metadata": {},
   "outputs": [
    {
     "data": {
      "text/plain": [
       "<matplotlib.axes._subplots.AxesSubplot at 0x12b05db00>"
      ]
     },
     "execution_count": 62,
     "metadata": {},
     "output_type": "execute_result"
    },
    {
     "data": {
      "image/png": "[encoded data removed]",
      "text/plain": [
       "<Figure size 432x288 with 1 Axes>"
      ]
     },
     "metadata": {
      "needs_background": "light"
     },
     "output_type": "display_data"
    }
   ],
   "source": [
    "sns.boxplot(x= small['marketCap'])"
   ]
  },
  {
   "cell_type": "code",
   "execution_count": 63,
   "metadata": {},
   "outputs": [
    {
     "data": {
      "text/plain": [
       "<matplotlib.axes._subplots.AxesSubplot at 0x12ae55f60>"
      ]
     },
     "execution_count": 63,
     "metadata": {},
     "output_type": "execute_result"
    },
    {
     "data": {
      "image/png": "[encoded data removed]",
      "text/plain": [
       "<Figure size 432x288 with 1 Axes>"
      ]
     },
     "metadata": {
      "needs_background": "light"
     },
     "output_type": "display_data"
    }
   ],
   "source": [
    "sns.boxplot(x= medium['marketCap'])"
   ]
  },
  {
   "cell_type": "code",
   "execution_count": 64,
   "metadata": {},
   "outputs": [
    {
     "data": {
      "text/plain": [
       "<matplotlib.axes._subplots.AxesSubplot at 0x12ae3bef0>"
      ]
     },
     "execution_count": 64,
     "metadata": {},
     "output_type": "execute_result"
    },
    {
     "data": {
      "image/png": "[encoded data removed]",
      "text/plain": [
       "<Figure size 432x288 with 1 Axes>"
      ]
     },
     "metadata": {
      "needs_background": "light"
     },
     "output_type": "display_data"
    }
   ],
   "source": [
    "large['marketCap'].hist()"
   ]
  },
  {
   "cell_type": "code",
   "execution_count": 65,
   "metadata": {},
   "outputs": [
    {
     "data": {
      "text/plain": [
       "<matplotlib.axes._subplots.AxesSubplot at 0x12b2dbda0>"
      ]
     },
     "execution_count": 65,
     "metadata": {},
     "output_type": "execute_result"
    },
    {
     "data": {
      "image/png": "[encoded data removed]",
      "text/plain": [
       "<Figure size 432x288 with 1 Axes>"
      ]
     },
     "metadata": {
      "needs_background": "light"
     },
     "output_type": "display_data"
    }
   ],
   "source": [
    "medium['marketCap'].hist()"
   ]
  },
  {
   "cell_type": "code",
   "execution_count": 66,
   "metadata": {},
   "outputs": [
    {
     "data": {
      "text/plain": [
       "<matplotlib.axes._subplots.AxesSubplot at 0x12ad1e940>"
      ]
     },
     "execution_count": 66,
     "metadata": {},
     "output_type": "execute_result"
    },
    {
     "data": {
      "image/png": "[encoded data removed]",
      "text/plain": [
       "<Figure size 432x288 with 1 Axes>"
      ]
     },
     "metadata": {
      "needs_background": "light"
     },
     "output_type": "display_data"
    }
   ],
   "source": [
    "small['marketCap'].hist()"
   ]
  },
  {
   "cell_type": "code",
   "execution_count": 67,
   "metadata": {},
   "outputs": [
    {
     "data": {
      "text/plain": [
       "<matplotlib.axes._subplots.AxesSubplot at 0x12aefc588>"
      ]
     },
     "execution_count": 67,
     "metadata": {},
     "output_type": "execute_result"
    },
    {
     "data": {
      "image/png": "[encoded data removed]",
      "text/plain": [
       "<Figure size 432x288 with 1 Axes>"
      ]
     },
     "metadata": {
      "needs_background": "light"
     },
     "output_type": "display_data"
    }
   ],
   "source": [
    "sns.boxplot(x= small['forwardEps'])"
   ]
  },
  {
   "cell_type": "code",
   "execution_count": 68,
   "metadata": {},
   "outputs": [
    {
     "data": {
      "text/plain": [
       "<matplotlib.axes._subplots.AxesSubplot at 0x128518be0>"
      ]
     },
     "execution_count": 68,
     "metadata": {},
     "output_type": "execute_result"
    },
    {
     "data": {
      "image/png": "[encoded data removed]",
      "text/plain": [
       "<Figure size 432x288 with 1 Axes>"
      ]
     },
     "metadata": {
      "needs_background": "light"
     },
     "output_type": "display_data"
    }
   ],
   "source": [
    "sns.boxplot(x= medium['forwardEps'])"
   ]
  },
  {
   "cell_type": "code",
   "execution_count": 69,
   "metadata": {},
   "outputs": [
    {
     "data": {
      "text/plain": [
       "<matplotlib.axes._subplots.AxesSubplot at 0x1284c0470>"
      ]
     },
     "execution_count": 69,
     "metadata": {},
     "output_type": "execute_result"
    },
    {
     "data": {
      "image/png": "[encoded data removed]",
      "text/plain": [
       "<Figure size 432x288 with 1 Axes>"
      ]
     },
     "metadata": {
      "needs_background": "light"
     },
     "output_type": "display_data"
    }
   ],
   "source": [
    "sns.boxplot(x= large['forwardEps'])"
   ]
  },
  {
   "cell_type": "code",
   "execution_count": 70,
   "metadata": {},
   "outputs": [
    {
     "data": {
      "text/plain": [
       "<matplotlib.axes._subplots.AxesSubplot at 0x1286ff4e0>"
      ]
     },
     "execution_count": 70,
     "metadata": {},
     "output_type": "execute_result"
    },
    {
     "data": {
      "image/png": "[encoded data removed]",
      "text/plain": [
       "<Figure size 432x288 with 1 Axes>"
      ]
     },
     "metadata": {
      "needs_background": "light"
     },
     "output_type": "display_data"
    }
   ],
   "source": [
    "sns.boxplot(x= small['bookValue'])"
   ]
  },
  {
   "cell_type": "code",
   "execution_count": 71,
   "metadata": {},
   "outputs": [
    {
     "data": {
      "text/plain": [
       "<matplotlib.axes._subplots.AxesSubplot at 0x1286a79e8>"
      ]
     },
     "execution_count": 71,
     "metadata": {},
     "output_type": "execute_result"
    },
    {
     "data": {
      "image/png": "[encoded data removed]",
      "text/plain": [
       "<Figure size 432x288 with 1 Axes>"
      ]
     },
     "metadata": {
      "needs_background": "light"
     },
     "output_type": "display_data"
    }
   ],
   "source": [
    "sns.boxplot(x= medium['bookValue'])"
   ]
  },
  {
   "cell_type": "code",
   "execution_count": 72,
   "metadata": {},
   "outputs": [
    {
     "data": {
      "text/plain": [
       "<matplotlib.axes._subplots.AxesSubplot at 0x12890f400>"
      ]
     },
     "execution_count": 72,
     "metadata": {},
     "output_type": "execute_result"
    },
    {
     "data": {
      "image/png": "[encoded data removed]",
      "text/plain": [
       "<Figure size 432x288 with 1 Axes>"
      ]
     },
     "metadata": {
      "needs_background": "light"
     },
     "output_type": "display_data"
    }
   ],
   "source": [
    "sns.boxplot(x= large['bookValue'])"
   ]
  },
  {
   "cell_type": "code",
   "execution_count": 73,
   "metadata": {},
   "outputs": [
    {
     "data": {
      "text/html": [
       "<div>\n",
       "<style scoped>\n",
       "    .dataframe tbody tr th:only-of-type {\n",
       "        vertical-align: middle;\n",
       "    }\n",
       "\n",
       "    .dataframe tbody tr th {\n",
       "        vertical-align: top;\n",
       "    }\n",
       "\n",
       "    .dataframe thead th {\n",
       "        text-align: right;\n",
       "    }\n",
       "</style>\n",
       "<table border=\"1\" class=\"dataframe\">\n",
       "  <thead>\n",
       "    <tr style=\"text-align: right;\">\n",
       "      <th></th>\n",
       "      <th>symbol</th>\n",
       "      <th>security_name</th>\n",
       "      <th>listing_exchange</th>\n",
       "      <th>etf</th>\n",
       "      <th>zip</th>\n",
       "      <th>sector</th>\n",
       "      <th>fullTimeEmployees</th>\n",
       "      <th>city</th>\n",
       "      <th>state</th>\n",
       "      <th>country</th>\n",
       "      <th>...</th>\n",
       "      <th>forwardEps</th>\n",
       "      <th>bookValue</th>\n",
       "      <th>sharesShort</th>\n",
       "      <th>shortRatio</th>\n",
       "      <th>floatShares</th>\n",
       "      <th>enterpriseValue</th>\n",
       "      <th>regularMarketPrice</th>\n",
       "      <th>latest_dividend</th>\n",
       "      <th>newcol</th>\n",
       "      <th>size</th>\n",
       "    </tr>\n",
       "  </thead>\n",
       "  <tbody>\n",
       "    <tr>\n",
       "      <th>12</th>\n",
       "      <td>AC</td>\n",
       "      <td>Associated Capital Group, Inc. Common Stock</td>\n",
       "      <td>N</td>\n",
       "      <td>N</td>\n",
       "      <td>10580</td>\n",
       "      <td>Financial Services</td>\n",
       "      <td>39.0</td>\n",
       "      <td>Rye</td>\n",
       "      <td>NY</td>\n",
       "      <td>United States</td>\n",
       "      <td>...</td>\n",
       "      <td>2.59</td>\n",
       "      <td>36.611</td>\n",
       "      <td>196192.0</td>\n",
       "      <td>10.61</td>\n",
       "      <td>3337299.0</td>\n",
       "      <td>4.792149e+08</td>\n",
       "      <td>42.11</td>\n",
       "      <td>0.100</td>\n",
       "      <td>39.0</td>\n",
       "      <td>39.0</td>\n",
       "    </tr>\n",
       "    <tr>\n",
       "      <th>23</th>\n",
       "      <td>ADC</td>\n",
       "      <td>Agree Realty Corporation Common Stock</td>\n",
       "      <td>N</td>\n",
       "      <td>N</td>\n",
       "      <td>48304</td>\n",
       "      <td>Real Estate</td>\n",
       "      <td>41.0</td>\n",
       "      <td>Bloomfield Hills</td>\n",
       "      <td>MI</td>\n",
       "      <td>United States</td>\n",
       "      <td>...</td>\n",
       "      <td>1.76</td>\n",
       "      <td>37.483</td>\n",
       "      <td>7650448.0</td>\n",
       "      <td>8.52</td>\n",
       "      <td>45892725.0</td>\n",
       "      <td>4.230171e+09</td>\n",
       "      <td>66.35</td>\n",
       "      <td>0.585</td>\n",
       "      <td>41.0</td>\n",
       "      <td>41.0</td>\n",
       "    </tr>\n",
       "    <tr>\n",
       "      <th>47</th>\n",
       "      <td>AGNC</td>\n",
       "      <td>AGNC Investment Corp. - Common Stock</td>\n",
       "      <td>Q</td>\n",
       "      <td>N</td>\n",
       "      <td>20814</td>\n",
       "      <td>Real Estate</td>\n",
       "      <td>51.0</td>\n",
       "      <td>Bethesda</td>\n",
       "      <td>MD</td>\n",
       "      <td>United States</td>\n",
       "      <td>...</td>\n",
       "      <td>1.91</td>\n",
       "      <td>14.636</td>\n",
       "      <td>13832623.0</td>\n",
       "      <td>1.00</td>\n",
       "      <td>555558553.0</td>\n",
       "      <td>6.859663e+10</td>\n",
       "      <td>13.61</td>\n",
       "      <td>0.120</td>\n",
       "      <td>51.0</td>\n",
       "      <td>51.0</td>\n",
       "    </tr>\n",
       "    <tr>\n",
       "      <th>48</th>\n",
       "      <td>AGNCM</td>\n",
       "      <td>AGNC Investment Corp. - Depositary Shares rep ...</td>\n",
       "      <td>Q</td>\n",
       "      <td>N</td>\n",
       "      <td>20814</td>\n",
       "      <td>Real Estate</td>\n",
       "      <td>51.0</td>\n",
       "      <td>Bethesda</td>\n",
       "      <td>MD</td>\n",
       "      <td>United States</td>\n",
       "      <td>...</td>\n",
       "      <td>NaN</td>\n",
       "      <td>14.636</td>\n",
       "      <td>NaN</td>\n",
       "      <td>NaN</td>\n",
       "      <td>555558553.0</td>\n",
       "      <td>7.422655e+10</td>\n",
       "      <td>22.72</td>\n",
       "      <td>0.430</td>\n",
       "      <td>51.0</td>\n",
       "      <td>51.0</td>\n",
       "    </tr>\n",
       "    <tr>\n",
       "      <th>49</th>\n",
       "      <td>AGNCN</td>\n",
       "      <td>AGNC Investment Corp. - Depositary Shares Each...</td>\n",
       "      <td>Q</td>\n",
       "      <td>N</td>\n",
       "      <td>20814</td>\n",
       "      <td>Real Estate</td>\n",
       "      <td>51.0</td>\n",
       "      <td>Bethesda</td>\n",
       "      <td>MD</td>\n",
       "      <td>United States</td>\n",
       "      <td>...</td>\n",
       "      <td>NaN</td>\n",
       "      <td>14.636</td>\n",
       "      <td>NaN</td>\n",
       "      <td>NaN</td>\n",
       "      <td>555558553.0</td>\n",
       "      <td>7.453420e+10</td>\n",
       "      <td>23.44</td>\n",
       "      <td>0.438</td>\n",
       "      <td>51.0</td>\n",
       "      <td>51.0</td>\n",
       "    </tr>\n",
       "  </tbody>\n",
       "</table>\n",
       "<p>5 rows × 40 columns</p>\n",
       "</div>"
      ],
      "text/plain": [
       "   symbol                                      security_name listing_exchange  \\\n",
       "12     AC        Associated Capital Group, Inc. Common Stock                N   \n",
       "23    ADC              Agree Realty Corporation Common Stock                N   \n",
       "47   AGNC               AGNC Investment Corp. - Common Stock                Q   \n",
       "48  AGNCM  AGNC Investment Corp. - Depositary Shares rep ...                Q   \n",
       "49  AGNCN  AGNC Investment Corp. - Depositary Shares Each...                Q   \n",
       "\n",
       "   etf    zip              sector  fullTimeEmployees              city state  \\\n",
       "12   N  10580  Financial Services               39.0               Rye    NY   \n",
       "23   N  48304         Real Estate               41.0  Bloomfield Hills    MI   \n",
       "47   N  20814         Real Estate               51.0          Bethesda    MD   \n",
       "48   N  20814         Real Estate               51.0          Bethesda    MD   \n",
       "49   N  20814         Real Estate               51.0          Bethesda    MD   \n",
       "\n",
       "          country  ... forwardEps  bookValue  sharesShort  shortRatio  \\\n",
       "12  United States  ...       2.59     36.611     196192.0       10.61   \n",
       "23  United States  ...       1.76     37.483    7650448.0        8.52   \n",
       "47  United States  ...       1.91     14.636   13832623.0        1.00   \n",
       "48  United States  ...        NaN     14.636          NaN         NaN   \n",
       "49  United States  ...        NaN     14.636          NaN         NaN   \n",
       "\n",
       "    floatShares  enterpriseValue  regularMarketPrice  latest_dividend  newcol  \\\n",
       "12    3337299.0     4.792149e+08               42.11            0.100    39.0   \n",
       "23   45892725.0     4.230171e+09               66.35            0.585    41.0   \n",
       "47  555558553.0     6.859663e+10               13.61            0.120    51.0   \n",
       "48  555558553.0     7.422655e+10               22.72            0.430    51.0   \n",
       "49  555558553.0     7.453420e+10               23.44            0.438    51.0   \n",
       "\n",
       "    size  \n",
       "12  39.0  \n",
       "23  41.0  \n",
       "47  51.0  \n",
       "48  51.0  \n",
       "49  51.0  \n",
       "\n",
       "[5 rows x 40 columns]"
      ]
     },
     "execution_count": 73,
     "metadata": {},
     "output_type": "execute_result"
    }
   ],
   "source": [
    "small.head()"
   ]
  },
  {
   "cell_type": "code",
   "execution_count": 74,
   "metadata": {},
   "outputs": [],
   "source": [
    "llm = large.groupby('sector').agg({'marketCap':'mean'}).reset_index()"
   ]
  },
  {
   "cell_type": "code",
   "execution_count": 75,
   "metadata": {},
   "outputs": [],
   "source": [
    "llm = llm.sort_values(by='marketCap',ascending=False)"
   ]
  },
  {
   "cell_type": "code",
   "execution_count": 76,
   "metadata": {},
   "outputs": [
    {
     "data": {
      "image/png": "[encoded data removed]",
      "text/plain": [
       "<Figure size 432x288 with 1 Axes>"
      ]
     },
     "metadata": {
      "needs_background": "light"
     },
     "output_type": "display_data"
    }
   ],
   "source": [
    "sns.barplot(x=llm['sector'], y= llm['marketCap']);\n",
    "plt.xticks(rotation=90);"
   ]
  },
  {
   "cell_type": "code",
   "execution_count": 77,
   "metadata": {},
   "outputs": [],
   "source": [
    "lfe = large.groupby('sector').agg({'fullTimeEmployees':'mean'}).reset_index()"
   ]
  },
  {
   "cell_type": "code",
   "execution_count": 78,
   "metadata": {},
   "outputs": [],
   "source": [
    "lfe = lfe.sort_values(by='fullTimeEmployees',ascending=False)"
   ]
  },
  {
   "cell_type": "code",
   "execution_count": 79,
   "metadata": {},
   "outputs": [
    {
     "data": {
      "image/png": "[encoded data removed]",
      "text/plain": [
       "<Figure size 432x288 with 1 Axes>"
      ]
     },
     "metadata": {
      "needs_background": "light"
     },
     "output_type": "display_data"
    }
   ],
   "source": [
    "sns.barplot(x=lfe['sector'], y= lfe['fullTimeEmployees']);\n",
    "plt.xticks(rotation=90);\n",
    "plt.title('Average Full Time Employees By Sector: Large Companies');"
   ]
  },
  {
   "cell_type": "code",
   "execution_count": 80,
   "metadata": {},
   "outputs": [],
   "source": [
    "mfe = medium.groupby('sector').agg({'fullTimeEmployees':'mean'}).reset_index()"
   ]
  },
  {
   "cell_type": "code",
   "execution_count": 81,
   "metadata": {},
   "outputs": [],
   "source": [
    "mfe = mfe.sort_values(by='fullTimeEmployees',ascending=False)"
   ]
  },
  {
   "cell_type": "code",
   "execution_count": 82,
   "metadata": {},
   "outputs": [
    {
     "data": {
      "image/png": "[encoded data removed]",
      "text/plain": [
       "<Figure size 432x288 with 1 Axes>"
      ]
     },
     "metadata": {
      "needs_background": "light"
     },
     "output_type": "display_data"
    }
   ],
   "source": [
    "sns.barplot(x=mfe['sector'], y= mfe['fullTimeEmployees']);\n",
    "plt.xticks(rotation=90);\n",
    "plt.title('Average Full Time Employees By Sector: Medium Companies');"
   ]
  },
  {
   "cell_type": "code",
   "execution_count": 83,
   "metadata": {},
   "outputs": [],
   "source": [
    "sfes = small.groupby('sector').agg({'fullTimeEmployees':'mean'}).reset_index()"
   ]
  },
  {
   "cell_type": "code",
   "execution_count": 84,
   "metadata": {},
   "outputs": [
    {
     "ename": "KeyError",
     "evalue": "0     41.666667\n1     85.000000\n2     58.000000\n3     23.000000\n4     24.857143\n5     60.782609\n6     93.000000\n7     20.000000\n8     39.226415\n9     10.500000\n10    74.000000\nName: fullTimeEmployees, dtype: float64",
     "output_type": "error",
     "traceback": [
      "\u001b[0;31m---------------------------------------------------------------------------\u001b[0m",
      "\u001b[0;31mKeyError\u001b[0m                                  Traceback (most recent call last)",
      "\u001b[0;32m<ipython-input-84-1f466fe49ec4>\u001b[0m in \u001b[0;36m<module>\u001b[0;34m\u001b[0m\n\u001b[0;32m----> 1\u001b[0;31m \u001b[0msfes\u001b[0m \u001b[0;34m=\u001b[0m \u001b[0msmall\u001b[0m\u001b[0;34m.\u001b[0m\u001b[0msort_values\u001b[0m\u001b[0;34m(\u001b[0m\u001b[0mby\u001b[0m\u001b[0;34m=\u001b[0m\u001b[0msfes\u001b[0m\u001b[0;34m[\u001b[0m\u001b[0;34m'fullTimeEmployees'\u001b[0m\u001b[0;34m]\u001b[0m\u001b[0;34m,\u001b[0m\u001b[0mascending\u001b[0m\u001b[0;34m=\u001b[0m\u001b[0;32mFalse\u001b[0m\u001b[0;34m)\u001b[0m\u001b[0;34m\u001b[0m\u001b[0;34m\u001b[0m\u001b[0m\n\u001b[0m",
      "\u001b[0;32m//anaconda3/lib/python3.7/site-packages/pandas/core/frame.py\u001b[0m in \u001b[0;36msort_values\u001b[0;34m(self, by, axis, ascending, inplace, kind, na_position)\u001b[0m\n\u001b[1;32m   4717\u001b[0m \u001b[0;34m\u001b[0m\u001b[0m\n\u001b[1;32m   4718\u001b[0m             \u001b[0mby\u001b[0m \u001b[0;34m=\u001b[0m \u001b[0mby\u001b[0m\u001b[0;34m[\u001b[0m\u001b[0;36m0\u001b[0m\u001b[0;34m]\u001b[0m\u001b[0;34m\u001b[0m\u001b[0;34m\u001b[0m\u001b[0m\n\u001b[0;32m-> 4719\u001b[0;31m             \u001b[0mk\u001b[0m \u001b[0;34m=\u001b[0m \u001b[0mself\u001b[0m\u001b[0;34m.\u001b[0m\u001b[0m_get_label_or_level_values\u001b[0m\u001b[0;34m(\u001b[0m\u001b[0mby\u001b[0m\u001b[0;34m,\u001b[0m \u001b[0maxis\u001b[0m\u001b[0;34m=\u001b[0m\u001b[0maxis\u001b[0m\u001b[0;34m)\u001b[0m\u001b[0;34m\u001b[0m\u001b[0;34m\u001b[0m\u001b[0m\n\u001b[0m\u001b[1;32m   4720\u001b[0m \u001b[0;34m\u001b[0m\u001b[0m\n\u001b[1;32m   4721\u001b[0m             \u001b[0;32mif\u001b[0m \u001b[0misinstance\u001b[0m\u001b[0;34m(\u001b[0m\u001b[0mascending\u001b[0m\u001b[0;34m,\u001b[0m \u001b[0;34m(\u001b[0m\u001b[0mtuple\u001b[0m\u001b[0;34m,\u001b[0m \u001b[0mlist\u001b[0m\u001b[0;34m)\u001b[0m\u001b[0;34m)\u001b[0m\u001b[0;34m:\u001b[0m\u001b[0;34m\u001b[0m\u001b[0;34m\u001b[0m\u001b[0m\n",
      "\u001b[0;32m//anaconda3/lib/python3.7/site-packages/pandas/core/generic.py\u001b[0m in \u001b[0;36m_get_label_or_level_values\u001b[0;34m(self, key, axis)\u001b[0m\n\u001b[1;32m   1704\u001b[0m             \u001b[0mvalues\u001b[0m \u001b[0;34m=\u001b[0m \u001b[0mself\u001b[0m\u001b[0;34m.\u001b[0m\u001b[0maxes\u001b[0m\u001b[0;34m[\u001b[0m\u001b[0maxis\u001b[0m\u001b[0;34m]\u001b[0m\u001b[0;34m.\u001b[0m\u001b[0mget_level_values\u001b[0m\u001b[0;34m(\u001b[0m\u001b[0mkey\u001b[0m\u001b[0;34m)\u001b[0m\u001b[0;34m.\u001b[0m\u001b[0m_values\u001b[0m\u001b[0;34m\u001b[0m\u001b[0;34m\u001b[0m\u001b[0m\n\u001b[1;32m   1705\u001b[0m         \u001b[0;32melse\u001b[0m\u001b[0;34m:\u001b[0m\u001b[0;34m\u001b[0m\u001b[0;34m\u001b[0m\u001b[0m\n\u001b[0;32m-> 1706\u001b[0;31m             \u001b[0;32mraise\u001b[0m \u001b[0mKeyError\u001b[0m\u001b[0;34m(\u001b[0m\u001b[0mkey\u001b[0m\u001b[0;34m)\u001b[0m\u001b[0;34m\u001b[0m\u001b[0;34m\u001b[0m\u001b[0m\n\u001b[0m\u001b[1;32m   1707\u001b[0m \u001b[0;34m\u001b[0m\u001b[0m\n\u001b[1;32m   1708\u001b[0m         \u001b[0;31m# Check for duplicates\u001b[0m\u001b[0;34m\u001b[0m\u001b[0;34m\u001b[0m\u001b[0;34m\u001b[0m\u001b[0m\n",
      "\u001b[0;31mKeyError\u001b[0m: 0     41.666667\n1     85.000000\n2     58.000000\n3     23.000000\n4     24.857143\n5     60.782609\n6     93.000000\n7     20.000000\n8     39.226415\n9     10.500000\n10    74.000000\nName: fullTimeEmployees, dtype: float64"
     ]
    }
   ],
   "source": [
    "sfes = small.sort_values(by=sfes['fullTimeEmployees'],ascending=False)"
   ]
  },
  {
   "cell_type": "code",
   "execution_count": null,
   "metadata": {},
   "outputs": [],
   "source": [
    "plt.bar(x=sfes['sector'],y=sfes['fullTimeEmployees'])"
   ]
  },
  {
   "cell_type": "code",
   "execution_count": null,
   "metadata": {},
   "outputs": [],
   "source": []
  },
  {
   "cell_type": "code",
   "execution_count": null,
   "metadata": {},
   "outputs": [],
   "source": []
  }
 ],
 "metadata": {
  "kernelspec": {
   "display_name": "Python 3",
   "language": "python",
   "name": "python3"
  },
  "language_info": {
   "codemirror_mode": {
    "name": "ipython",
    "version": 3
   },
   "file_extension": ".py",
   "mimetype": "text/x-python",
   "name": "python",
   "nbconvert_exporter": "python",
   "pygments_lexer": "ipython3",
   "version": "3.7.3"
  }
 },
 "nbformat": 4,
 "nbformat_minor": 4
}
