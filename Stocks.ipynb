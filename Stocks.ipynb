{
 "cells": [
  {
   "cell_type": "code",
   "execution_count": 1,
   "metadata": {},
   "outputs": [],
   "source": [
    "# Import needed libraries\n",
    "import numpy as np\n",
    "import pandas as pd\n",
    "import matplotlib.pyplot as plt\n",
    "%matplotlib inline\n",
    "import seaborn as sns"
   ]
  },
  {
   "cell_type": "code",
   "execution_count": 2,
   "metadata": {},
   "outputs": [],
   "source": [
    "# Import data \n",
    "div_stocks_df_original = pd.read_csv('dividend_stocks_only.csv')"
   ]
  },
  {
   "cell_type": "code",
   "execution_count": 3,
   "metadata": {},
   "outputs": [],
   "source": [
    "# Instantiate a new dataframe using copy.\n",
    "#We will work on this one keeping the origininal intact.\n",
    "div_stocks_df = div_stocks_df_original.copy()"
   ]
  },
  {
   "cell_type": "code",
   "execution_count": 4,
   "metadata": {},
   "outputs": [],
   "source": [
    "# Import data \n",
    "full_fin_stocks_df_original = pd.read_csv('full_financial_stocks_raw.csv')"
   ]
  },
  {
   "cell_type": "code",
   "execution_count": 5,
   "metadata": {},
   "outputs": [],
   "source": [
    "full_fin_stocks_df = full_fin_stocks_df_original.copy()"
   ]
  },
  {
   "cell_type": "code",
   "execution_count": 6,
   "metadata": {},
   "outputs": [
    {
     "data": {
      "text/html": [
       "<div>\n",
       "<style scoped>\n",
       "    .dataframe tbody tr th:only-of-type {\n",
       "        vertical-align: middle;\n",
       "    }\n",
       "\n",
       "    .dataframe tbody tr th {\n",
       "        vertical-align: top;\n",
       "    }\n",
       "\n",
       "    .dataframe thead th {\n",
       "        text-align: right;\n",
       "    }\n",
       "</style>\n",
       "<table border=\"1\" class=\"dataframe\">\n",
       "  <thead>\n",
       "    <tr style=\"text-align: right;\">\n",
       "      <th></th>\n",
       "      <th>symbol</th>\n",
       "      <th>security_name</th>\n",
       "      <th>listing_exchange</th>\n",
       "      <th>etf</th>\n",
       "      <th>financial_status</th>\n",
       "      <th>zip</th>\n",
       "      <th>sector</th>\n",
       "      <th>fullTimeEmployees</th>\n",
       "      <th>city</th>\n",
       "      <th>state</th>\n",
       "      <th>...</th>\n",
       "      <th>enterpriseToRevenue</th>\n",
       "      <th>forwardEps</th>\n",
       "      <th>revenueQuarterlyGrowth</th>\n",
       "      <th>bookValue</th>\n",
       "      <th>sharesShort</th>\n",
       "      <th>shortRatio</th>\n",
       "      <th>floatShares</th>\n",
       "      <th>enterpriseValue</th>\n",
       "      <th>regularMarketPrice</th>\n",
       "      <th>latest_dividend</th>\n",
       "    </tr>\n",
       "  </thead>\n",
       "  <tbody>\n",
       "    <tr>\n",
       "      <th>0</th>\n",
       "      <td>A</td>\n",
       "      <td>Agilent Technologies, Inc. Common Stock</td>\n",
       "      <td>N</td>\n",
       "      <td>N</td>\n",
       "      <td>NaN</td>\n",
       "      <td>95051</td>\n",
       "      <td>Healthcare</td>\n",
       "      <td>16300.0</td>\n",
       "      <td>Santa Clara</td>\n",
       "      <td>CA</td>\n",
       "      <td>...</td>\n",
       "      <td>4.987</td>\n",
       "      <td>3.57</td>\n",
       "      <td>NaN</td>\n",
       "      <td>15.636</td>\n",
       "      <td>5258241.0</td>\n",
       "      <td>2.55</td>\n",
       "      <td>3.085180e+08</td>\n",
       "      <td>2.611031e+10</td>\n",
       "      <td>86.30</td>\n",
       "      <td>0.18</td>\n",
       "    </tr>\n",
       "    <tr>\n",
       "      <th>1</th>\n",
       "      <td>AAL</td>\n",
       "      <td>American Airlines Group, Inc. - Common Stock</td>\n",
       "      <td>Q</td>\n",
       "      <td>N</td>\n",
       "      <td>N</td>\n",
       "      <td>76155</td>\n",
       "      <td>Industrials</td>\n",
       "      <td>131500.0</td>\n",
       "      <td>Fort Worth</td>\n",
       "      <td>TX</td>\n",
       "      <td>...</td>\n",
       "      <td>0.796</td>\n",
       "      <td>-0.04</td>\n",
       "      <td>NaN</td>\n",
       "      <td>-6.233</td>\n",
       "      <td>119303588.0</td>\n",
       "      <td>1.49</td>\n",
       "      <td>4.167541e+08</td>\n",
       "      <td>3.478515e+10</td>\n",
       "      <td>12.43</td>\n",
       "      <td>0.10</td>\n",
       "    </tr>\n",
       "    <tr>\n",
       "      <th>2</th>\n",
       "      <td>AAP</td>\n",
       "      <td>Advance Auto Parts Inc Advance Auto Parts Inc W/I</td>\n",
       "      <td>N</td>\n",
       "      <td>N</td>\n",
       "      <td>NaN</td>\n",
       "      <td>27604</td>\n",
       "      <td>Consumer Cyclical</td>\n",
       "      <td>39000.0</td>\n",
       "      <td>Raleigh</td>\n",
       "      <td>NC</td>\n",
       "      <td>...</td>\n",
       "      <td>1.175</td>\n",
       "      <td>8.54</td>\n",
       "      <td>NaN</td>\n",
       "      <td>51.606</td>\n",
       "      <td>1691705.0</td>\n",
       "      <td>1.57</td>\n",
       "      <td>6.857524e+07</td>\n",
       "      <td>1.141075e+10</td>\n",
       "      <td>137.50</td>\n",
       "      <td>0.25</td>\n",
       "    </tr>\n",
       "    <tr>\n",
       "      <th>3</th>\n",
       "      <td>AAPL</td>\n",
       "      <td>Apple Inc. - Common Stock</td>\n",
       "      <td>Q</td>\n",
       "      <td>N</td>\n",
       "      <td>N</td>\n",
       "      <td>95014</td>\n",
       "      <td>Technology</td>\n",
       "      <td>137000.0</td>\n",
       "      <td>Cupertino</td>\n",
       "      <td>CA</td>\n",
       "      <td>...</td>\n",
       "      <td>5.108</td>\n",
       "      <td>14.73</td>\n",
       "      <td>NaN</td>\n",
       "      <td>18.137</td>\n",
       "      <td>33592445.0</td>\n",
       "      <td>0.89</td>\n",
       "      <td>4.329827e+09</td>\n",
       "      <td>1.368917e+12</td>\n",
       "      <td>316.14</td>\n",
       "      <td>0.82</td>\n",
       "    </tr>\n",
       "    <tr>\n",
       "      <th>4</th>\n",
       "      <td>AAT</td>\n",
       "      <td>American Assets Trust, Inc. Common Stock</td>\n",
       "      <td>N</td>\n",
       "      <td>N</td>\n",
       "      <td>NaN</td>\n",
       "      <td>92130</td>\n",
       "      <td>Real Estate</td>\n",
       "      <td>205.0</td>\n",
       "      <td>San Diego</td>\n",
       "      <td>CA</td>\n",
       "      <td>...</td>\n",
       "      <td>7.849</td>\n",
       "      <td>1.35</td>\n",
       "      <td>NaN</td>\n",
       "      <td>21.713</td>\n",
       "      <td>706006.0</td>\n",
       "      <td>1.70</td>\n",
       "      <td>5.308802e+07</td>\n",
       "      <td>2.936203e+09</td>\n",
       "      <td>28.01</td>\n",
       "      <td>0.30</td>\n",
       "    </tr>\n",
       "  </tbody>\n",
       "</table>\n",
       "<p>5 rows × 40 columns</p>\n",
       "</div>"
      ],
      "text/plain": [
       "  symbol                                      security_name listing_exchange  \\\n",
       "0      A            Agilent Technologies, Inc. Common Stock                N   \n",
       "1    AAL       American Airlines Group, Inc. - Common Stock                Q   \n",
       "2    AAP  Advance Auto Parts Inc Advance Auto Parts Inc W/I                N   \n",
       "3   AAPL                          Apple Inc. - Common Stock                Q   \n",
       "4    AAT           American Assets Trust, Inc. Common Stock                N   \n",
       "\n",
       "  etf financial_status    zip             sector  fullTimeEmployees  \\\n",
       "0   N              NaN  95051         Healthcare            16300.0   \n",
       "1   N                N  76155        Industrials           131500.0   \n",
       "2   N              NaN  27604  Consumer Cyclical            39000.0   \n",
       "3   N                N  95014         Technology           137000.0   \n",
       "4   N              NaN  92130        Real Estate              205.0   \n",
       "\n",
       "          city state  ... enterpriseToRevenue forwardEps  \\\n",
       "0  Santa Clara    CA  ...               4.987       3.57   \n",
       "1   Fort Worth    TX  ...               0.796      -0.04   \n",
       "2      Raleigh    NC  ...               1.175       8.54   \n",
       "3    Cupertino    CA  ...               5.108      14.73   \n",
       "4    San Diego    CA  ...               7.849       1.35   \n",
       "\n",
       "   revenueQuarterlyGrowth  bookValue  sharesShort  shortRatio   floatShares  \\\n",
       "0                     NaN     15.636    5258241.0        2.55  3.085180e+08   \n",
       "1                     NaN     -6.233  119303588.0        1.49  4.167541e+08   \n",
       "2                     NaN     51.606    1691705.0        1.57  6.857524e+07   \n",
       "3                     NaN     18.137   33592445.0        0.89  4.329827e+09   \n",
       "4                     NaN     21.713     706006.0        1.70  5.308802e+07   \n",
       "\n",
       "   enterpriseValue  regularMarketPrice  latest_dividend  \n",
       "0     2.611031e+10               86.30             0.18  \n",
       "1     3.478515e+10               12.43             0.10  \n",
       "2     1.141075e+10              137.50             0.25  \n",
       "3     1.368917e+12              316.14             0.82  \n",
       "4     2.936203e+09               28.01             0.30  \n",
       "\n",
       "[5 rows x 40 columns]"
      ]
     },
     "execution_count": 6,
     "metadata": {},
     "output_type": "execute_result"
    }
   ],
   "source": [
    "div_stocks_df.head()"
   ]
  },
  {
   "cell_type": "code",
   "execution_count": 7,
   "metadata": {},
   "outputs": [
    {
     "data": {
      "text/plain": [
       "symbol                          object\n",
       "security_name                   object\n",
       "listing_exchange                object\n",
       "etf                             object\n",
       "financial_status                object\n",
       "zip                             object\n",
       "sector                          object\n",
       "fullTimeEmployees              float64\n",
       "city                            object\n",
       "state                           object\n",
       "country                         object\n",
       "industry                        object\n",
       "twoHundredDayAverage           float64\n",
       "trailingAnnualDividendYield    float64\n",
       "averageDailyVolume10Day          int64\n",
       "regularMarketPreviousClose     float64\n",
       "open                           float64\n",
       "averageVolume10days              int64\n",
       "dividendRate                   float64\n",
       "regularMarketVolume              int64\n",
       "marketCap                      float64\n",
       "averageVolume                    int64\n",
       "dayLow                         float64\n",
       "ask                            float64\n",
       "fiftyTwoWeekHigh               float64\n",
       "forwardPE                      float64\n",
       "fiveYearAvgDividendYield       float64\n",
       "dividendYield                  float64\n",
       "bidSize                        float64\n",
       "dayHigh                        float64\n",
       "enterpriseToRevenue            float64\n",
       "forwardEps                     float64\n",
       "revenueQuarterlyGrowth         float64\n",
       "bookValue                      float64\n",
       "sharesShort                    float64\n",
       "shortRatio                     float64\n",
       "floatShares                    float64\n",
       "enterpriseValue                float64\n",
       "regularMarketPrice             float64\n",
       "latest_dividend                float64\n",
       "dtype: object"
      ]
     },
     "execution_count": 7,
     "metadata": {},
     "output_type": "execute_result"
    }
   ],
   "source": [
    "div_stocks_df.dtypes"
   ]
  },
  {
   "cell_type": "code",
   "execution_count": 8,
   "metadata": {},
   "outputs": [
    {
     "data": {
      "text/html": [
       "<div>\n",
       "<style scoped>\n",
       "    .dataframe tbody tr th:only-of-type {\n",
       "        vertical-align: middle;\n",
       "    }\n",
       "\n",
       "    .dataframe tbody tr th {\n",
       "        vertical-align: top;\n",
       "    }\n",
       "\n",
       "    .dataframe thead th {\n",
       "        text-align: right;\n",
       "    }\n",
       "</style>\n",
       "<table border=\"1\" class=\"dataframe\">\n",
       "  <thead>\n",
       "    <tr style=\"text-align: right;\">\n",
       "      <th></th>\n",
       "      <th>symbol</th>\n",
       "      <th>security_name</th>\n",
       "      <th>listing_exchange</th>\n",
       "      <th>etf</th>\n",
       "      <th>financial_status</th>\n",
       "      <th>zip</th>\n",
       "      <th>sector</th>\n",
       "      <th>fullTimeEmployees</th>\n",
       "      <th>city</th>\n",
       "      <th>state</th>\n",
       "      <th>...</th>\n",
       "      <th>enterpriseToRevenue</th>\n",
       "      <th>forwardEps</th>\n",
       "      <th>revenueQuarterlyGrowth</th>\n",
       "      <th>bookValue</th>\n",
       "      <th>sharesShort</th>\n",
       "      <th>shortRatio</th>\n",
       "      <th>floatShares</th>\n",
       "      <th>enterpriseValue</th>\n",
       "      <th>regularMarketPrice</th>\n",
       "      <th>latest_dividend</th>\n",
       "    </tr>\n",
       "  </thead>\n",
       "  <tbody>\n",
       "    <tr>\n",
       "      <th>0</th>\n",
       "      <td>A</td>\n",
       "      <td>Agilent Technologies, Inc. Common Stock</td>\n",
       "      <td>N</td>\n",
       "      <td>N</td>\n",
       "      <td>NaN</td>\n",
       "      <td>95051</td>\n",
       "      <td>Healthcare</td>\n",
       "      <td>16300.0</td>\n",
       "      <td>Santa Clara</td>\n",
       "      <td>CA</td>\n",
       "      <td>...</td>\n",
       "      <td>4.987</td>\n",
       "      <td>3.57</td>\n",
       "      <td>NaN</td>\n",
       "      <td>15.636</td>\n",
       "      <td>5258241.0</td>\n",
       "      <td>2.55</td>\n",
       "      <td>308518035.0</td>\n",
       "      <td>2.611031e+10</td>\n",
       "      <td>86.30</td>\n",
       "      <td>0.180</td>\n",
       "    </tr>\n",
       "    <tr>\n",
       "      <th>1</th>\n",
       "      <td>AA</td>\n",
       "      <td>Alcoa Corporation Common Stock</td>\n",
       "      <td>N</td>\n",
       "      <td>N</td>\n",
       "      <td>NaN</td>\n",
       "      <td>15212</td>\n",
       "      <td>Basic Materials</td>\n",
       "      <td>13800.0</td>\n",
       "      <td>Pittsburgh</td>\n",
       "      <td>PA</td>\n",
       "      <td>...</td>\n",
       "      <td>0.417</td>\n",
       "      <td>-0.24</td>\n",
       "      <td>NaN</td>\n",
       "      <td>22.994</td>\n",
       "      <td>11633009.0</td>\n",
       "      <td>1.10</td>\n",
       "      <td>185121237.0</td>\n",
       "      <td>4.210365e+09</td>\n",
       "      <td>9.12</td>\n",
       "      <td>0.090</td>\n",
       "    </tr>\n",
       "    <tr>\n",
       "      <th>2</th>\n",
       "      <td>AADR</td>\n",
       "      <td>AdvisorShares Dorsey Wright ADR ETF</td>\n",
       "      <td>P</td>\n",
       "      <td>Y</td>\n",
       "      <td>NaN</td>\n",
       "      <td>NaN</td>\n",
       "      <td>NaN</td>\n",
       "      <td>NaN</td>\n",
       "      <td>NaN</td>\n",
       "      <td>NaN</td>\n",
       "      <td>...</td>\n",
       "      <td>NaN</td>\n",
       "      <td>NaN</td>\n",
       "      <td>NaN</td>\n",
       "      <td>NaN</td>\n",
       "      <td>NaN</td>\n",
       "      <td>NaN</td>\n",
       "      <td>NaN</td>\n",
       "      <td>NaN</td>\n",
       "      <td>47.59</td>\n",
       "      <td>0.008</td>\n",
       "    </tr>\n",
       "    <tr>\n",
       "      <th>3</th>\n",
       "      <td>AAL</td>\n",
       "      <td>American Airlines Group, Inc. - Common Stock</td>\n",
       "      <td>Q</td>\n",
       "      <td>N</td>\n",
       "      <td>N</td>\n",
       "      <td>76155</td>\n",
       "      <td>Industrials</td>\n",
       "      <td>131500.0</td>\n",
       "      <td>Fort Worth</td>\n",
       "      <td>TX</td>\n",
       "      <td>...</td>\n",
       "      <td>0.796</td>\n",
       "      <td>-0.04</td>\n",
       "      <td>NaN</td>\n",
       "      <td>-6.233</td>\n",
       "      <td>119303588.0</td>\n",
       "      <td>1.49</td>\n",
       "      <td>416754073.0</td>\n",
       "      <td>3.478515e+10</td>\n",
       "      <td>12.43</td>\n",
       "      <td>0.100</td>\n",
       "    </tr>\n",
       "    <tr>\n",
       "      <th>4</th>\n",
       "      <td>AAME</td>\n",
       "      <td>Atlantic American Corporation - Common Stock</td>\n",
       "      <td>Q</td>\n",
       "      <td>N</td>\n",
       "      <td>N</td>\n",
       "      <td>30319</td>\n",
       "      <td>Financial Services</td>\n",
       "      <td>151.0</td>\n",
       "      <td>Atlanta</td>\n",
       "      <td>GA</td>\n",
       "      <td>...</td>\n",
       "      <td>0.371</td>\n",
       "      <td>NaN</td>\n",
       "      <td>NaN</td>\n",
       "      <td>4.964</td>\n",
       "      <td>1620.0</td>\n",
       "      <td>0.46</td>\n",
       "      <td>4879047.0</td>\n",
       "      <td>6.778967e+07</td>\n",
       "      <td>1.95</td>\n",
       "      <td>0.020</td>\n",
       "    </tr>\n",
       "  </tbody>\n",
       "</table>\n",
       "<p>5 rows × 40 columns</p>\n",
       "</div>"
      ],
      "text/plain": [
       "  symbol                                 security_name listing_exchange etf  \\\n",
       "0      A       Agilent Technologies, Inc. Common Stock                N   N   \n",
       "1     AA               Alcoa Corporation Common Stock                 N   N   \n",
       "2   AADR           AdvisorShares Dorsey Wright ADR ETF                P   Y   \n",
       "3    AAL  American Airlines Group, Inc. - Common Stock                Q   N   \n",
       "4   AAME  Atlantic American Corporation - Common Stock                Q   N   \n",
       "\n",
       "  financial_status    zip              sector  fullTimeEmployees         city  \\\n",
       "0              NaN  95051          Healthcare            16300.0  Santa Clara   \n",
       "1              NaN  15212     Basic Materials            13800.0   Pittsburgh   \n",
       "2              NaN    NaN                 NaN                NaN          NaN   \n",
       "3                N  76155         Industrials           131500.0   Fort Worth   \n",
       "4                N  30319  Financial Services              151.0      Atlanta   \n",
       "\n",
       "  state  ... enterpriseToRevenue forwardEps  revenueQuarterlyGrowth  \\\n",
       "0    CA  ...               4.987       3.57                     NaN   \n",
       "1    PA  ...               0.417      -0.24                     NaN   \n",
       "2   NaN  ...                 NaN        NaN                     NaN   \n",
       "3    TX  ...               0.796      -0.04                     NaN   \n",
       "4    GA  ...               0.371        NaN                     NaN   \n",
       "\n",
       "   bookValue  sharesShort  shortRatio  floatShares  enterpriseValue  \\\n",
       "0     15.636    5258241.0        2.55  308518035.0     2.611031e+10   \n",
       "1     22.994   11633009.0        1.10  185121237.0     4.210365e+09   \n",
       "2        NaN          NaN         NaN          NaN              NaN   \n",
       "3     -6.233  119303588.0        1.49  416754073.0     3.478515e+10   \n",
       "4      4.964       1620.0        0.46    4879047.0     6.778967e+07   \n",
       "\n",
       "   regularMarketPrice  latest_dividend  \n",
       "0               86.30            0.180  \n",
       "1                9.12            0.090  \n",
       "2               47.59            0.008  \n",
       "3               12.43            0.100  \n",
       "4                1.95            0.020  \n",
       "\n",
       "[5 rows x 40 columns]"
      ]
     },
     "execution_count": 8,
     "metadata": {},
     "output_type": "execute_result"
    }
   ],
   "source": [
    "full_fin_stocks_df.head()"
   ]
  },
  {
   "cell_type": "code",
   "execution_count": 9,
   "metadata": {},
   "outputs": [
    {
     "data": {
      "text/plain": [
       "N    0.551833\n",
       "Y    0.448167\n",
       "Name: etf, dtype: float64"
      ]
     },
     "execution_count": 9,
     "metadata": {},
     "output_type": "execute_result"
    }
   ],
   "source": [
    "# lets see the values counts of etf stocks\n",
    "full_fin_stocks_df['etf'].value_counts(True)"
   ]
  },
  {
   "cell_type": "code",
   "execution_count": 10,
   "metadata": {},
   "outputs": [
    {
     "data": {
      "text/plain": [
       "symbol                          object\n",
       "security_name                   object\n",
       "listing_exchange                object\n",
       "etf                             object\n",
       "financial_status                object\n",
       "zip                             object\n",
       "sector                          object\n",
       "fullTimeEmployees              float64\n",
       "city                            object\n",
       "state                           object\n",
       "country                         object\n",
       "industry                        object\n",
       "twoHundredDayAverage           float64\n",
       "trailingAnnualDividendYield    float64\n",
       "averageDailyVolume10Day          int64\n",
       "regularMarketPreviousClose     float64\n",
       "open                           float64\n",
       "averageVolume10days              int64\n",
       "dividendRate                   float64\n",
       "regularMarketVolume              int64\n",
       "marketCap                      float64\n",
       "averageVolume                    int64\n",
       "dayLow                         float64\n",
       "ask                            float64\n",
       "fiftyTwoWeekHigh               float64\n",
       "forwardPE                      float64\n",
       "fiveYearAvgDividendYield       float64\n",
       "dividendYield                  float64\n",
       "bidSize                        float64\n",
       "dayHigh                        float64\n",
       "enterpriseToRevenue            float64\n",
       "forwardEps                     float64\n",
       "revenueQuarterlyGrowth         float64\n",
       "bookValue                      float64\n",
       "sharesShort                    float64\n",
       "shortRatio                     float64\n",
       "floatShares                    float64\n",
       "enterpriseValue                float64\n",
       "regularMarketPrice             float64\n",
       "latest_dividend                float64\n",
       "dtype: object"
      ]
     },
     "execution_count": 10,
     "metadata": {},
     "output_type": "execute_result"
    }
   ],
   "source": [
    "# get the columns and their data types\n",
    "full_fin_stocks_df.dtypes"
   ]
  },
  {
   "cell_type": "code",
   "execution_count": 11,
   "metadata": {},
   "outputs": [
    {
     "data": {
      "image/png": "[encoded data removed]",
      "text/plain": [
       "<Figure size 432x288 with 1 Axes>"
      ]
     },
     "metadata": {
      "needs_background": "light"
     },
     "output_type": "display_data"
    }
   ],
   "source": [
    "full_fin_stocks_df.averageVolume.hist();\n",
    "plt.title('Average Volume Histogram');\n",
    "plt.ylabel('Frequency');"
   ]
  },
  {
   "cell_type": "code",
   "execution_count": 12,
   "metadata": {},
   "outputs": [
    {
     "data": {
      "text/plain": [
       "Index(['symbol', 'security_name', 'listing_exchange', 'etf',\n",
       "       'financial_status', 'zip', 'sector', 'fullTimeEmployees', 'city',\n",
       "       'state', 'country', 'industry', 'twoHundredDayAverage',\n",
       "       'trailingAnnualDividendYield', 'averageDailyVolume10Day',\n",
       "       'regularMarketPreviousClose', 'open', 'averageVolume10days',\n",
       "       'dividendRate', 'regularMarketVolume', 'marketCap', 'averageVolume',\n",
       "       'dayLow', 'ask', 'fiftyTwoWeekHigh', 'forwardPE',\n",
       "       'fiveYearAvgDividendYield', 'dividendYield', 'bidSize', 'dayHigh',\n",
       "       'enterpriseToRevenue', 'forwardEps', 'revenueQuarterlyGrowth',\n",
       "       'bookValue', 'sharesShort', 'shortRatio', 'floatShares',\n",
       "       'enterpriseValue', 'regularMarketPrice', 'latest_dividend'],\n",
       "      dtype='object')"
      ]
     },
     "execution_count": 12,
     "metadata": {},
     "output_type": "execute_result"
    }
   ],
   "source": [
    "# get a list of all the columns in the data set\n",
    "full_fin_stocks_df.columns"
   ]
  },
  {
   "cell_type": "code",
   "execution_count": 13,
   "metadata": {},
   "outputs": [
    {
     "data": {
      "text/plain": [
       "N    1499\n",
       "P    1347\n",
       "Q    1234\n",
       "Z     289\n",
       "A      78\n",
       "Name: listing_exchange, dtype: int64"
      ]
     },
     "execution_count": 13,
     "metadata": {},
     "output_type": "execute_result"
    }
   ],
   "source": [
    "# get value counts for listing exchange\n",
    "full_fin_stocks_df['listing_exchange'].value_counts()"
   ]
  },
  {
   "cell_type": "code",
   "execution_count": 14,
   "metadata": {},
   "outputs": [
    {
     "data": {
      "text/plain": [
       "N    0.337081\n",
       "P    0.302901\n",
       "Q    0.277490\n",
       "Z    0.064988\n",
       "A    0.017540\n",
       "Name: listing_exchange, dtype: float64"
      ]
     },
     "execution_count": 14,
     "metadata": {},
     "output_type": "execute_result"
    }
   ],
   "source": [
    "full_fin_stocks_df['listing_exchange'].value_counts(True)"
   ]
  },
  {
   "cell_type": "code",
   "execution_count": 15,
   "metadata": {},
   "outputs": [
    {
     "data": {
      "text/plain": [
       "Financial Services        938\n",
       "Industrials               281\n",
       "Consumer Cyclical         215\n",
       "Real Estate               200\n",
       "Energy                    169\n",
       "Technology                160\n",
       "Basic Materials           113\n",
       "Consumer Defensive         96\n",
       "Healthcare                 83\n",
       "Communication Services     76\n",
       "Utilities                  72\n",
       "Financial                   1\n",
       "Name: sector, dtype: int64"
      ]
     },
     "execution_count": 15,
     "metadata": {},
     "output_type": "execute_result"
    }
   ],
   "source": [
    "# get value counts for sector\n",
    "full_fin_stocks_df['sector'].value_counts()"
   ]
  },
  {
   "cell_type": "code",
   "execution_count": 16,
   "metadata": {},
   "outputs": [
    {
     "data": {
      "text/plain": [
       "Financial Services        0.390183\n",
       "Industrials               0.116889\n",
       "Consumer Cyclical         0.089434\n",
       "Real Estate               0.083195\n",
       "Energy                    0.070300\n",
       "Technology                0.066556\n",
       "Basic Materials           0.047005\n",
       "Consumer Defensive        0.039933\n",
       "Healthcare                0.034526\n",
       "Communication Services    0.031614\n",
       "Utilities                 0.029950\n",
       "Financial                 0.000416\n",
       "Name: sector, dtype: float64"
      ]
     },
     "execution_count": 16,
     "metadata": {},
     "output_type": "execute_result"
    }
   ],
   "source": [
    "full_fin_stocks_df['sector'].value_counts(True)"
   ]
  },
  {
   "cell_type": "code",
   "execution_count": 17,
   "metadata": {},
   "outputs": [
    {
     "data": {
      "text/plain": [
       "(4447, 40)"
      ]
     },
     "execution_count": 17,
     "metadata": {},
     "output_type": "execute_result"
    }
   ],
   "source": [
    "# get the shape of the dataset\n",
    "full_fin_stocks_df.shape"
   ]
  },
  {
   "cell_type": "code",
   "execution_count": 18,
   "metadata": {},
   "outputs": [
    {
     "data": {
      "image/png": "[encoded data removed]",
      "text/plain": [
       "<Figure size 432x288 with 1 Axes>"
      ]
     },
     "metadata": {
      "needs_background": "light"
     },
     "output_type": "display_data"
    }
   ],
   "source": [
    "full_fin_stocks_df['marketCap'].hist();\n",
    "plt.title('Market Cap Histogram');\n",
    "plt.ylabel('Frequency');"
   ]
  },
  {
   "cell_type": "code",
   "execution_count": 19,
   "metadata": {},
   "outputs": [
    {
     "data": {
      "image/png": "[encoded data removed]",
      "text/plain": [
       "<Figure size 432x288 with 1 Axes>"
      ]
     },
     "metadata": {
      "needs_background": "light"
     },
     "output_type": "display_data"
    }
   ],
   "source": [
    "full_fin_stocks_df['bidSize'].hist();\n",
    "plt.title('Bid Size Histogram');\n",
    "plt.ylabel('Frequency');"
   ]
  },
  {
   "cell_type": "code",
   "execution_count": 21,
   "metadata": {},
   "outputs": [],
   "source": [
    "# We can see that not all companies are in the US"
   ]
  },
  {
   "cell_type": "code",
   "execution_count": 22,
   "metadata": {},
   "outputs": [
    {
     "data": {
      "text/plain": [
       "N    1213\n",
       "D      19\n",
       "E       2\n",
       "Name: financial_status, dtype: int64"
      ]
     },
     "execution_count": 22,
     "metadata": {},
     "output_type": "execute_result"
    }
   ],
   "source": [
    "full_fin_stocks_df['financial_status'].value_counts()"
   ]
  },
  {
   "cell_type": "code",
   "execution_count": 23,
   "metadata": {},
   "outputs": [],
   "source": [
    "full_fin_stocks_df['revenueQuarterlyGrowth'];"
   ]
  },
  {
   "cell_type": "code",
   "execution_count": 24,
   "metadata": {},
   "outputs": [],
   "source": [
    "full_fin_stocks_df = full_fin_stocks_df.drop('revenueQuarterlyGrowth',axis=1)"
   ]
  },
  {
   "cell_type": "code",
   "execution_count": 25,
   "metadata": {},
   "outputs": [
    {
     "data": {
      "text/html": [
       "<div>\n",
       "<style scoped>\n",
       "    .dataframe tbody tr th:only-of-type {\n",
       "        vertical-align: middle;\n",
       "    }\n",
       "\n",
       "    .dataframe tbody tr th {\n",
       "        vertical-align: top;\n",
       "    }\n",
       "\n",
       "    .dataframe thead th {\n",
       "        text-align: right;\n",
       "    }\n",
       "</style>\n",
       "<table border=\"1\" class=\"dataframe\">\n",
       "  <thead>\n",
       "    <tr style=\"text-align: right;\">\n",
       "      <th></th>\n",
       "      <th>symbol</th>\n",
       "      <th>security_name</th>\n",
       "      <th>listing_exchange</th>\n",
       "      <th>etf</th>\n",
       "      <th>financial_status</th>\n",
       "      <th>zip</th>\n",
       "      <th>sector</th>\n",
       "      <th>fullTimeEmployees</th>\n",
       "      <th>city</th>\n",
       "      <th>state</th>\n",
       "      <th>...</th>\n",
       "      <th>dayHigh</th>\n",
       "      <th>enterpriseToRevenue</th>\n",
       "      <th>forwardEps</th>\n",
       "      <th>bookValue</th>\n",
       "      <th>sharesShort</th>\n",
       "      <th>shortRatio</th>\n",
       "      <th>floatShares</th>\n",
       "      <th>enterpriseValue</th>\n",
       "      <th>regularMarketPrice</th>\n",
       "      <th>latest_dividend</th>\n",
       "    </tr>\n",
       "  </thead>\n",
       "  <tbody>\n",
       "    <tr>\n",
       "      <th>0</th>\n",
       "      <td>A</td>\n",
       "      <td>Agilent Technologies, Inc. Common Stock</td>\n",
       "      <td>N</td>\n",
       "      <td>N</td>\n",
       "      <td>NaN</td>\n",
       "      <td>95051</td>\n",
       "      <td>Healthcare</td>\n",
       "      <td>16300.0</td>\n",
       "      <td>Santa Clara</td>\n",
       "      <td>CA</td>\n",
       "      <td>...</td>\n",
       "      <td>86.480</td>\n",
       "      <td>4.987</td>\n",
       "      <td>3.57</td>\n",
       "      <td>15.636</td>\n",
       "      <td>5258241.0</td>\n",
       "      <td>2.55</td>\n",
       "      <td>308518035.0</td>\n",
       "      <td>2.611031e+10</td>\n",
       "      <td>86.30</td>\n",
       "      <td>0.180</td>\n",
       "    </tr>\n",
       "    <tr>\n",
       "      <th>1</th>\n",
       "      <td>AA</td>\n",
       "      <td>Alcoa Corporation Common Stock</td>\n",
       "      <td>N</td>\n",
       "      <td>N</td>\n",
       "      <td>NaN</td>\n",
       "      <td>15212</td>\n",
       "      <td>Basic Materials</td>\n",
       "      <td>13800.0</td>\n",
       "      <td>Pittsburgh</td>\n",
       "      <td>PA</td>\n",
       "      <td>...</td>\n",
       "      <td>9.790</td>\n",
       "      <td>0.417</td>\n",
       "      <td>-0.24</td>\n",
       "      <td>22.994</td>\n",
       "      <td>11633009.0</td>\n",
       "      <td>1.10</td>\n",
       "      <td>185121237.0</td>\n",
       "      <td>4.210365e+09</td>\n",
       "      <td>9.12</td>\n",
       "      <td>0.090</td>\n",
       "    </tr>\n",
       "    <tr>\n",
       "      <th>2</th>\n",
       "      <td>AADR</td>\n",
       "      <td>AdvisorShares Dorsey Wright ADR ETF</td>\n",
       "      <td>P</td>\n",
       "      <td>Y</td>\n",
       "      <td>NaN</td>\n",
       "      <td>NaN</td>\n",
       "      <td>NaN</td>\n",
       "      <td>NaN</td>\n",
       "      <td>NaN</td>\n",
       "      <td>NaN</td>\n",
       "      <td>...</td>\n",
       "      <td>48.221</td>\n",
       "      <td>NaN</td>\n",
       "      <td>NaN</td>\n",
       "      <td>NaN</td>\n",
       "      <td>NaN</td>\n",
       "      <td>NaN</td>\n",
       "      <td>NaN</td>\n",
       "      <td>NaN</td>\n",
       "      <td>47.59</td>\n",
       "      <td>0.008</td>\n",
       "    </tr>\n",
       "    <tr>\n",
       "      <th>3</th>\n",
       "      <td>AAL</td>\n",
       "      <td>American Airlines Group, Inc. - Common Stock</td>\n",
       "      <td>Q</td>\n",
       "      <td>N</td>\n",
       "      <td>N</td>\n",
       "      <td>76155</td>\n",
       "      <td>Industrials</td>\n",
       "      <td>131500.0</td>\n",
       "      <td>Fort Worth</td>\n",
       "      <td>TX</td>\n",
       "      <td>...</td>\n",
       "      <td>12.550</td>\n",
       "      <td>0.796</td>\n",
       "      <td>-0.04</td>\n",
       "      <td>-6.233</td>\n",
       "      <td>119303588.0</td>\n",
       "      <td>1.49</td>\n",
       "      <td>416754073.0</td>\n",
       "      <td>3.478515e+10</td>\n",
       "      <td>12.43</td>\n",
       "      <td>0.100</td>\n",
       "    </tr>\n",
       "    <tr>\n",
       "      <th>4</th>\n",
       "      <td>AAME</td>\n",
       "      <td>Atlantic American Corporation - Common Stock</td>\n",
       "      <td>Q</td>\n",
       "      <td>N</td>\n",
       "      <td>N</td>\n",
       "      <td>30319</td>\n",
       "      <td>Financial Services</td>\n",
       "      <td>151.0</td>\n",
       "      <td>Atlanta</td>\n",
       "      <td>GA</td>\n",
       "      <td>...</td>\n",
       "      <td>1.950</td>\n",
       "      <td>0.371</td>\n",
       "      <td>NaN</td>\n",
       "      <td>4.964</td>\n",
       "      <td>1620.0</td>\n",
       "      <td>0.46</td>\n",
       "      <td>4879047.0</td>\n",
       "      <td>6.778967e+07</td>\n",
       "      <td>1.95</td>\n",
       "      <td>0.020</td>\n",
       "    </tr>\n",
       "  </tbody>\n",
       "</table>\n",
       "<p>5 rows × 39 columns</p>\n",
       "</div>"
      ],
      "text/plain": [
       "  symbol                                 security_name listing_exchange etf  \\\n",
       "0      A       Agilent Technologies, Inc. Common Stock                N   N   \n",
       "1     AA               Alcoa Corporation Common Stock                 N   N   \n",
       "2   AADR           AdvisorShares Dorsey Wright ADR ETF                P   Y   \n",
       "3    AAL  American Airlines Group, Inc. - Common Stock                Q   N   \n",
       "4   AAME  Atlantic American Corporation - Common Stock                Q   N   \n",
       "\n",
       "  financial_status    zip              sector  fullTimeEmployees         city  \\\n",
       "0              NaN  95051          Healthcare            16300.0  Santa Clara   \n",
       "1              NaN  15212     Basic Materials            13800.0   Pittsburgh   \n",
       "2              NaN    NaN                 NaN                NaN          NaN   \n",
       "3                N  76155         Industrials           131500.0   Fort Worth   \n",
       "4                N  30319  Financial Services              151.0      Atlanta   \n",
       "\n",
       "  state  ... dayHigh enterpriseToRevenue  forwardEps  bookValue  sharesShort  \\\n",
       "0    CA  ...  86.480               4.987        3.57     15.636    5258241.0   \n",
       "1    PA  ...   9.790               0.417       -0.24     22.994   11633009.0   \n",
       "2   NaN  ...  48.221                 NaN         NaN        NaN          NaN   \n",
       "3    TX  ...  12.550               0.796       -0.04     -6.233  119303588.0   \n",
       "4    GA  ...   1.950               0.371         NaN      4.964       1620.0   \n",
       "\n",
       "   shortRatio  floatShares  enterpriseValue  regularMarketPrice  \\\n",
       "0        2.55  308518035.0     2.611031e+10               86.30   \n",
       "1        1.10  185121237.0     4.210365e+09                9.12   \n",
       "2         NaN          NaN              NaN               47.59   \n",
       "3        1.49  416754073.0     3.478515e+10               12.43   \n",
       "4        0.46    4879047.0     6.778967e+07                1.95   \n",
       "\n",
       "   latest_dividend  \n",
       "0            0.180  \n",
       "1            0.090  \n",
       "2            0.008  \n",
       "3            0.100  \n",
       "4            0.020  \n",
       "\n",
       "[5 rows x 39 columns]"
      ]
     },
     "execution_count": 25,
     "metadata": {},
     "output_type": "execute_result"
    }
   ],
   "source": [
    "full_fin_stocks_df.head()"
   ]
  },
  {
   "cell_type": "code",
   "execution_count": 26,
   "metadata": {},
   "outputs": [
    {
     "data": {
      "text/plain": [
       "3213"
      ]
     },
     "execution_count": 26,
     "metadata": {},
     "output_type": "execute_result"
    }
   ],
   "source": [
    "# See the total number null values in finacial staus\n",
    "full_fin_stocks_df['financial_status'].isna().sum()"
   ]
  },
  {
   "cell_type": "code",
   "execution_count": 27,
   "metadata": {},
   "outputs": [
    {
     "data": {
      "text/plain": [
       "N    1213\n",
       "D      19\n",
       "E       2\n",
       "Name: financial_status, dtype: int64"
      ]
     },
     "execution_count": 27,
     "metadata": {},
     "output_type": "execute_result"
    }
   ],
   "source": [
    "full_fin_stocks_df['financial_status'].value_counts()"
   ]
  },
  {
   "cell_type": "code",
   "execution_count": 28,
   "metadata": {},
   "outputs": [
    {
     "data": {
      "image/png": "[encoded data removed]",
      "text/plain": [
       "<Figure size 432x288 with 1 Axes>"
      ]
     },
     "metadata": {
      "needs_background": "light"
     },
     "output_type": "display_data"
    }
   ],
   "source": [
    "full_fin_stocks_df['fullTimeEmployees'].hist();\n",
    "plt.title('Full Time Employees');\n",
    "plt.ylabel('Frequency');"
   ]
  },
  {
   "cell_type": "code",
   "execution_count": 29,
   "metadata": {},
   "outputs": [],
   "source": [
    "full_fin_stocks_df;"
   ]
  },
  {
   "cell_type": "code",
   "execution_count": 30,
   "metadata": {},
   "outputs": [],
   "source": [
    "avg_sector_mcaps = full_fin_stocks_df.groupby('sector').agg({'marketCap':'mean'}).reset_index().sort_values('marketCap',ascending=False)"
   ]
  },
  {
   "cell_type": "code",
   "execution_count": 31,
   "metadata": {},
   "outputs": [
    {
     "data": {
      "image/png": "[encoded data removed]",
      "text/plain": [
       "<Figure size 432x288 with 1 Axes>"
      ]
     },
     "metadata": {
      "needs_background": "light"
     },
     "output_type": "display_data"
    }
   ],
   "source": [
    "sns.barplot(data = avg_sector_mcaps ,x='sector',y='marketCap');\n",
    "plt.xticks(rotation=90);\n",
    "plt.title(\"Average Sector MarketCap\");"
   ]
  },
  {
   "cell_type": "code",
   "execution_count": 32,
   "metadata": {},
   "outputs": [],
   "source": [
    "avg_emp_sect = full_fin_stocks_df.groupby('sector').agg({'fullTimeEmployees':'mean'}).reset_index()"
   ]
  },
  {
   "cell_type": "code",
   "execution_count": 33,
   "metadata": {},
   "outputs": [],
   "source": [
    "avg_emp_sect.dropna(inplace =True)"
   ]
  },
  {
   "cell_type": "code",
   "execution_count": 34,
   "metadata": {},
   "outputs": [],
   "source": [
    "avg_emp_sect = avg_emp_sect.sort_values('fullTimeEmployees',ascending=False)"
   ]
  },
  {
   "cell_type": "code",
   "execution_count": 35,
   "metadata": {},
   "outputs": [
    {
     "data": {
      "image/png": "[encoded data removed]",
      "text/plain": [
       "<Figure size 432x288 with 1 Axes>"
      ]
     },
     "metadata": {
      "needs_background": "light"
     },
     "output_type": "display_data"
    }
   ],
   "source": [
    "sns.barplot(data = avg_emp_sect ,x='sector',y='fullTimeEmployees');\n",
    "plt.xticks(rotation=90);\n",
    "plt.title(\"Average Full Time Employees per Sector\");"
   ]
  },
  {
   "cell_type": "code",
   "execution_count": 36,
   "metadata": {},
   "outputs": [],
   "source": [
    "avg_bookv_sect = full_fin_stocks_df.groupby('sector').agg({'bookValue':'mean'}).reset_index()"
   ]
  },
  {
   "cell_type": "code",
   "execution_count": 37,
   "metadata": {},
   "outputs": [],
   "source": [
    "avg_bookv_sect = avg_bookv_sect.sort_values('bookValue',ascending=False)"
   ]
  },
  {
   "cell_type": "code",
   "execution_count": 38,
   "metadata": {},
   "outputs": [
    {
     "data": {
      "image/png": "[encoded data removed]",
      "text/plain": [
       "<Figure size 432x288 with 1 Axes>"
      ]
     },
     "metadata": {
      "needs_background": "light"
     },
     "output_type": "display_data"
    }
   ],
   "source": [
    "sns.barplot(data = avg_bookv_sect ,x='sector',y='bookValue');\n",
    "plt.xticks(rotation=90);\n",
    "plt.title(\"Average Book Value per Sector\");"
   ]
  },
  {
   "cell_type": "code",
   "execution_count": 39,
   "metadata": {},
   "outputs": [],
   "source": [
    "avg_divr_sect = full_fin_stocks_df.groupby('sector').agg({'dividendRate':'mean'}).reset_index()"
   ]
  },
  {
   "cell_type": "code",
   "execution_count": 40,
   "metadata": {},
   "outputs": [
    {
     "data": {
      "text/html": [
       "<div>\n",
       "<style scoped>\n",
       "    .dataframe tbody tr th:only-of-type {\n",
       "        vertical-align: middle;\n",
       "    }\n",
       "\n",
       "    .dataframe tbody tr th {\n",
       "        vertical-align: top;\n",
       "    }\n",
       "\n",
       "    .dataframe thead th {\n",
       "        text-align: right;\n",
       "    }\n",
       "</style>\n",
       "<table border=\"1\" class=\"dataframe\">\n",
       "  <thead>\n",
       "    <tr style=\"text-align: right;\">\n",
       "      <th></th>\n",
       "      <th>sector</th>\n",
       "      <th>dividendRate</th>\n",
       "    </tr>\n",
       "  </thead>\n",
       "  <tbody>\n",
       "    <tr>\n",
       "      <th>0</th>\n",
       "      <td>Basic Materials</td>\n",
       "      <td>1.195895</td>\n",
       "    </tr>\n",
       "    <tr>\n",
       "      <th>1</th>\n",
       "      <td>Communication Services</td>\n",
       "      <td>0.988000</td>\n",
       "    </tr>\n",
       "    <tr>\n",
       "      <th>2</th>\n",
       "      <td>Consumer Cyclical</td>\n",
       "      <td>1.109907</td>\n",
       "    </tr>\n",
       "    <tr>\n",
       "      <th>3</th>\n",
       "      <td>Consumer Defensive</td>\n",
       "      <td>1.671739</td>\n",
       "    </tr>\n",
       "    <tr>\n",
       "      <th>4</th>\n",
       "      <td>Energy</td>\n",
       "      <td>1.291818</td>\n",
       "    </tr>\n",
       "  </tbody>\n",
       "</table>\n",
       "</div>"
      ],
      "text/plain": [
       "                   sector  dividendRate\n",
       "0         Basic Materials      1.195895\n",
       "1  Communication Services      0.988000\n",
       "2       Consumer Cyclical      1.109907\n",
       "3      Consumer Defensive      1.671739\n",
       "4                  Energy      1.291818"
      ]
     },
     "execution_count": 40,
     "metadata": {},
     "output_type": "execute_result"
    }
   ],
   "source": [
    "avg_divr_sect.head()"
   ]
  },
  {
   "cell_type": "code",
   "execution_count": 41,
   "metadata": {},
   "outputs": [],
   "source": [
    "avg_divr_sect = avg_divr_sect.sort_values('dividendRate',ascending=False)"
   ]
  },
  {
   "cell_type": "code",
   "execution_count": 42,
   "metadata": {},
   "outputs": [
    {
     "data": {
      "image/png": "[encoded data removed]",
      "text/plain": [
       "<Figure size 432x288 with 1 Axes>"
      ]
     },
     "metadata": {
      "needs_background": "light"
     },
     "output_type": "display_data"
    }
   ],
   "source": [
    "sns.barplot(data = avg_divr_sect ,x='sector',y='dividendRate');\n",
    "plt.xticks(rotation=90);\n",
    "plt.title(\"Average Dividend Rate per Sector\");"
   ]
  },
  {
   "cell_type": "code",
   "execution_count": 43,
   "metadata": {},
   "outputs": [],
   "source": [
    "avg_feps_sect = full_fin_stocks_df.groupby('sector').agg({'forwardEps':'mean'}).reset_index()"
   ]
  },
  {
   "cell_type": "code",
   "execution_count": 44,
   "metadata": {},
   "outputs": [],
   "source": [
    "avg_feps_sect = avg_feps_sect.sort_values('forwardEps',ascending=False)"
   ]
  },
  {
   "cell_type": "code",
   "execution_count": 45,
   "metadata": {},
   "outputs": [
    {
     "data": {
      "image/png": "[encoded data removed]",
      "text/plain": [
       "<Figure size 432x288 with 1 Axes>"
      ]
     },
     "metadata": {
      "needs_background": "light"
     },
     "output_type": "display_data"
    }
   ],
   "source": [
    "sns.barplot(data = avg_feps_sect ,x='sector',y='forwardEps');\n",
    "plt.xticks(rotation=90);\n",
    "plt.title(\"Average Forward Eps per Sector\");"
   ]
  },
  {
   "cell_type": "code",
   "execution_count": 46,
   "metadata": {},
   "outputs": [
    {
     "data": {
      "text/plain": [
       "Index(['symbol', 'security_name', 'listing_exchange', 'etf',\n",
       "       'financial_status', 'zip', 'sector', 'fullTimeEmployees', 'city',\n",
       "       'state', 'country', 'industry', 'twoHundredDayAverage',\n",
       "       'trailingAnnualDividendYield', 'averageDailyVolume10Day',\n",
       "       'regularMarketPreviousClose', 'open', 'averageVolume10days',\n",
       "       'dividendRate', 'regularMarketVolume', 'marketCap', 'averageVolume',\n",
       "       'dayLow', 'ask', 'fiftyTwoWeekHigh', 'forwardPE',\n",
       "       'fiveYearAvgDividendYield', 'dividendYield', 'bidSize', 'dayHigh',\n",
       "       'enterpriseToRevenue', 'forwardEps', 'bookValue', 'sharesShort',\n",
       "       'shortRatio', 'floatShares', 'enterpriseValue', 'regularMarketPrice',\n",
       "       'latest_dividend'],\n",
       "      dtype='object')"
      ]
     },
     "execution_count": 46,
     "metadata": {},
     "output_type": "execute_result"
    }
   ],
   "source": [
    "full_fin_stocks_df.columns"
   ]
  },
  {
   "cell_type": "code",
   "execution_count": 47,
   "metadata": {},
   "outputs": [
    {
     "data": {
      "text/plain": [
       "Asset Management                         459\n",
       "Banks—Regional                           309\n",
       "Oil & Gas E&P                             53\n",
       "Oil & Gas Midstream                       52\n",
       "Specialty Industrial Machinery            50\n",
       "Credit Services                           34\n",
       "REIT—Mortgage                             33\n",
       "Software—Application                      32\n",
       "Specialty Chemicals                       31\n",
       "Insurance—Property & Casualty             30\n",
       "Utilities—Regulated Electric              29\n",
       "Telecom Services                          29\n",
       "Oil & Gas Equipment & Services            29\n",
       "Restaurants                               26\n",
       "Information Technology Services           26\n",
       "Aerospace & Defense                       26\n",
       "REIT—Diversified                          25\n",
       "REIT—Retail                               25\n",
       "Auto Parts                                25\n",
       "Semiconductors                            24\n",
       "Capital Markets                           24\n",
       "Packaged Foods                            23\n",
       "REIT—Industrial                           20\n",
       "Insurance—Life                            19\n",
       "Apparel Retail                            18\n",
       "Leisure                                   18\n",
       "REIT—Office                               18\n",
       "REIT—Residential                          17\n",
       "Chemicals                                 17\n",
       "Electrical Equipment & Parts              17\n",
       "                                        ... \n",
       "Airports & Air Services                    4\n",
       "Oil & Gas Drilling                         4\n",
       "Auto Manufacturers                         4\n",
       "Insurance—Reinsurance                      3\n",
       "Gambling                                   3\n",
       "Home Improvement Retail                    3\n",
       "Paper & Paper Products                     3\n",
       "Textile Manufacturing                      3\n",
       "Thermal Coal                               3\n",
       "Lumber & Wood Production                   3\n",
       "Copper                                     3\n",
       "Luxury Goods                               3\n",
       "Healthcare Plans                           3\n",
       "Department Stores                          3\n",
       "Utilities—Independent Power Producers      3\n",
       "Pharmaceutical Retailers                   3\n",
       "Confectioners                              2\n",
       "Silver                                     2\n",
       "Financial Conglomerates                    2\n",
       "Uranium                                    2\n",
       "Internet Retail                            2\n",
       "Other Precious Metals & Mining             2\n",
       "Electronic Gaming & Multimedia             2\n",
       "Travel Services                            2\n",
       "Coking Coal                                2\n",
       "Real Estate—Diversified                    2\n",
       "Pollution & Treatment Controls             1\n",
       "Medical Distribution                       1\n",
       "Infrastructure Operations                  1\n",
       "Closed-End Fund - Debt                     1\n",
       "Name: industry, Length: 143, dtype: int64"
      ]
     },
     "execution_count": 47,
     "metadata": {},
     "output_type": "execute_result"
    }
   ],
   "source": [
    "full_fin_stocks_df['industry'].value_counts()"
   ]
  },
  {
   "cell_type": "code",
   "execution_count": 48,
   "metadata": {},
   "outputs": [
    {
     "data": {
      "text/plain": [
       "143"
      ]
     },
     "execution_count": 48,
     "metadata": {},
     "output_type": "execute_result"
    }
   ],
   "source": [
    "full_fin_stocks_df['industry'].nunique()"
   ]
  },
  {
   "cell_type": "code",
   "execution_count": 50,
   "metadata": {},
   "outputs": [],
   "source": [
    "avg_bids_sect = full_fin_stocks_df.groupby('sector').agg({'bidSize':'mean'}).reset_index()"
   ]
  },
  {
   "cell_type": "code",
   "execution_count": 51,
   "metadata": {},
   "outputs": [],
   "source": [
    "avg_bids_sect = avg_bids_sect.sort_values('bidSize',ascending=False)"
   ]
  },
  {
   "cell_type": "code",
   "execution_count": 52,
   "metadata": {},
   "outputs": [
    {
     "data": {
      "image/png": "[encoded data removed]",
      "text/plain": [
       "<Figure size 432x288 with 1 Axes>"
      ]
     },
     "metadata": {
      "needs_background": "light"
     },
     "output_type": "display_data"
    }
   ],
   "source": [
    "sns.barplot(data = avg_bids_sect ,x='sector',y='bidSize');\n",
    "plt.xticks(rotation=90);\n",
    "plt.title(\"Average Bid Size per Sector\");"
   ]
  },
  {
   "cell_type": "code",
   "execution_count": 53,
   "metadata": {},
   "outputs": [],
   "source": [
    "avg_avol_sect = full_fin_stocks_df.groupby('sector').agg({'averageVolume':'mean'}).reset_index()"
   ]
  },
  {
   "cell_type": "code",
   "execution_count": 54,
   "metadata": {},
   "outputs": [],
   "source": [
    "avg_avol_sect = avg_avol_sect.sort_values('averageVolume',ascending=False)"
   ]
  },
  {
   "cell_type": "code",
   "execution_count": 55,
   "metadata": {},
   "outputs": [
    {
     "data": {
      "image/png": "[encoded data removed]",
      "text/plain": [
       "<Figure size 432x288 with 1 Axes>"
      ]
     },
     "metadata": {
      "needs_background": "light"
     },
     "output_type": "display_data"
    }
   ],
   "source": [
    "sns.barplot(data = avg_avol_sect ,x='sector',y='averageVolume');\n",
    "plt.xticks(rotation=90);\n",
    "plt.title(\"Average Volume per Sector\");"
   ]
  },
  {
   "cell_type": "code",
   "execution_count": 56,
   "metadata": {},
   "outputs": [
    {
     "data": {
      "text/plain": [
       "Index(['symbol', 'security_name', 'listing_exchange', 'etf',\n",
       "       'financial_status', 'zip', 'sector', 'fullTimeEmployees', 'city',\n",
       "       'state', 'country', 'industry', 'twoHundredDayAverage',\n",
       "       'trailingAnnualDividendYield', 'averageDailyVolume10Day',\n",
       "       'regularMarketPreviousClose', 'open', 'averageVolume10days',\n",
       "       'dividendRate', 'regularMarketVolume', 'marketCap', 'averageVolume',\n",
       "       'dayLow', 'ask', 'fiftyTwoWeekHigh', 'forwardPE',\n",
       "       'fiveYearAvgDividendYield', 'dividendYield', 'bidSize', 'dayHigh',\n",
       "       'enterpriseToRevenue', 'forwardEps', 'bookValue', 'sharesShort',\n",
       "       'shortRatio', 'floatShares', 'enterpriseValue', 'regularMarketPrice',\n",
       "       'latest_dividend'],\n",
       "      dtype='object')"
      ]
     },
     "execution_count": 56,
     "metadata": {},
     "output_type": "execute_result"
    }
   ],
   "source": [
    "full_fin_stocks_df.columns"
   ]
  },
  {
   "cell_type": "code",
   "execution_count": 57,
   "metadata": {},
   "outputs": [],
   "source": [
    "avg_entv_sect = full_fin_stocks_df.groupby('sector').agg({'enterpriseValue':'mean'}).reset_index()"
   ]
  },
  {
   "cell_type": "code",
   "execution_count": 58,
   "metadata": {},
   "outputs": [],
   "source": [
    "avg_entv_sect = avg_entv_sect.sort_values('enterpriseValue',ascending=False)"
   ]
  },
  {
   "cell_type": "code",
   "execution_count": 59,
   "metadata": {},
   "outputs": [
    {
     "data": {
      "image/png": "[encoded data removed]",
      "text/plain": [
       "<Figure size 432x288 with 1 Axes>"
      ]
     },
     "metadata": {
      "needs_background": "light"
     },
     "output_type": "display_data"
    }
   ],
   "source": [
    "sns.barplot(data = avg_entv_sect ,x='sector',y='enterpriseValue');\n",
    "plt.xticks(rotation=90);\n",
    "plt.title(\"Average Enterprise Value per Sector\");"
   ]
  },
  {
   "cell_type": "code",
   "execution_count": null,
   "metadata": {},
   "outputs": [],
   "source": []
  },
  {
   "cell_type": "code",
   "execution_count": 60,
   "metadata": {},
   "outputs": [
    {
     "data": {
      "text/plain": [
       "<matplotlib.axes._subplots.AxesSubplot at 0x122029630>"
      ]
     },
     "execution_count": 60,
     "metadata": {},
     "output_type": "execute_result"
    },
    {
     "data": {
      "image/png": "[encoded data removed]",
      "text/plain": [
       "<Figure size 432x288 with 1 Axes>"
      ]
     },
     "metadata": {
      "needs_background": "light"
     },
     "output_type": "display_data"
    }
   ],
   "source": [
    "sns.scatterplot(data = full_fin_stocks_df, x = full_fin_stocks_df['fullTimeEmployees'] , y = full_fin_stocks_df['averageVolume'], hue = 'sector')"
   ]
  },
  {
   "cell_type": "code",
   "execution_count": 61,
   "metadata": {},
   "outputs": [],
   "source": [
    "# Remove The outlier companies"
   ]
  },
  {
   "cell_type": "code",
   "execution_count": 63,
   "metadata": {},
   "outputs": [
    {
     "data": {
      "text/plain": [
       "symbol                            0\n",
       "security_name                     0\n",
       "listing_exchange                  0\n",
       "etf                               0\n",
       "financial_status               3213\n",
       "zip                            2051\n",
       "sector                         2043\n",
       "fullTimeEmployees              2646\n",
       "city                           2028\n",
       "state                          2270\n",
       "country                        2026\n",
       "industry                       2043\n",
       "twoHundredDayAverage              0\n",
       "trailingAnnualDividendYield    2317\n",
       "averageDailyVolume10Day           0\n",
       "regularMarketPreviousClose        0\n",
       "open                              0\n",
       "averageVolume10days               0\n",
       "dividendRate                   2508\n",
       "regularMarketVolume               0\n",
       "marketCap                      2042\n",
       "averageVolume                     0\n",
       "dayLow                            0\n",
       "ask                               0\n",
       "fiftyTwoWeekHigh                  0\n",
       "forwardPE                      2659\n",
       "fiveYearAvgDividendYield       2802\n",
       "dividendYield                  2508\n",
       "bidSize                           1\n",
       "dayHigh                           0\n",
       "enterpriseToRevenue            2309\n",
       "forwardEps                     2674\n",
       "bookValue                      2179\n",
       "sharesShort                    2116\n",
       "shortRatio                     2117\n",
       "floatShares                    2473\n",
       "enterpriseValue                2148\n",
       "regularMarketPrice                0\n",
       "latest_dividend                   0\n",
       "dtype: int64"
      ]
     },
     "execution_count": 63,
     "metadata": {},
     "output_type": "execute_result"
    }
   ],
   "source": [
    "full_fin_stocks_df.isna().sum()"
   ]
  },
  {
   "cell_type": "code",
   "execution_count": 64,
   "metadata": {},
   "outputs": [
    {
     "data": {
      "text/plain": [
       "(4447, 39)"
      ]
     },
     "execution_count": 64,
     "metadata": {},
     "output_type": "execute_result"
    }
   ],
   "source": [
    "full_fin_stocks_df.shape"
   ]
  },
  {
   "cell_type": "code",
   "execution_count": 65,
   "metadata": {},
   "outputs": [
    {
     "data": {
      "text/html": [
       "<div>\n",
       "<style scoped>\n",
       "    .dataframe tbody tr th:only-of-type {\n",
       "        vertical-align: middle;\n",
       "    }\n",
       "\n",
       "    .dataframe tbody tr th {\n",
       "        vertical-align: top;\n",
       "    }\n",
       "\n",
       "    .dataframe thead th {\n",
       "        text-align: right;\n",
       "    }\n",
       "</style>\n",
       "<table border=\"1\" class=\"dataframe\">\n",
       "  <thead>\n",
       "    <tr style=\"text-align: right;\">\n",
       "      <th></th>\n",
       "      <th>symbol</th>\n",
       "      <th>security_name</th>\n",
       "      <th>listing_exchange</th>\n",
       "      <th>etf</th>\n",
       "      <th>financial_status</th>\n",
       "      <th>zip</th>\n",
       "      <th>sector</th>\n",
       "      <th>fullTimeEmployees</th>\n",
       "      <th>city</th>\n",
       "      <th>state</th>\n",
       "      <th>...</th>\n",
       "      <th>enterpriseToRevenue</th>\n",
       "      <th>forwardEps</th>\n",
       "      <th>revenueQuarterlyGrowth</th>\n",
       "      <th>bookValue</th>\n",
       "      <th>sharesShort</th>\n",
       "      <th>shortRatio</th>\n",
       "      <th>floatShares</th>\n",
       "      <th>enterpriseValue</th>\n",
       "      <th>regularMarketPrice</th>\n",
       "      <th>latest_dividend</th>\n",
       "    </tr>\n",
       "  </thead>\n",
       "  <tbody>\n",
       "    <tr>\n",
       "      <th>0</th>\n",
       "      <td>A</td>\n",
       "      <td>Agilent Technologies, Inc. Common Stock</td>\n",
       "      <td>N</td>\n",
       "      <td>N</td>\n",
       "      <td>NaN</td>\n",
       "      <td>95051</td>\n",
       "      <td>Healthcare</td>\n",
       "      <td>16300.0</td>\n",
       "      <td>Santa Clara</td>\n",
       "      <td>CA</td>\n",
       "      <td>...</td>\n",
       "      <td>4.987</td>\n",
       "      <td>3.57</td>\n",
       "      <td>NaN</td>\n",
       "      <td>15.636</td>\n",
       "      <td>5258241.0</td>\n",
       "      <td>2.55</td>\n",
       "      <td>3.085180e+08</td>\n",
       "      <td>2.611031e+10</td>\n",
       "      <td>86.30</td>\n",
       "      <td>0.18</td>\n",
       "    </tr>\n",
       "    <tr>\n",
       "      <th>1</th>\n",
       "      <td>AAL</td>\n",
       "      <td>American Airlines Group, Inc. - Common Stock</td>\n",
       "      <td>Q</td>\n",
       "      <td>N</td>\n",
       "      <td>N</td>\n",
       "      <td>76155</td>\n",
       "      <td>Industrials</td>\n",
       "      <td>131500.0</td>\n",
       "      <td>Fort Worth</td>\n",
       "      <td>TX</td>\n",
       "      <td>...</td>\n",
       "      <td>0.796</td>\n",
       "      <td>-0.04</td>\n",
       "      <td>NaN</td>\n",
       "      <td>-6.233</td>\n",
       "      <td>119303588.0</td>\n",
       "      <td>1.49</td>\n",
       "      <td>4.167541e+08</td>\n",
       "      <td>3.478515e+10</td>\n",
       "      <td>12.43</td>\n",
       "      <td>0.10</td>\n",
       "    </tr>\n",
       "    <tr>\n",
       "      <th>2</th>\n",
       "      <td>AAP</td>\n",
       "      <td>Advance Auto Parts Inc Advance Auto Parts Inc W/I</td>\n",
       "      <td>N</td>\n",
       "      <td>N</td>\n",
       "      <td>NaN</td>\n",
       "      <td>27604</td>\n",
       "      <td>Consumer Cyclical</td>\n",
       "      <td>39000.0</td>\n",
       "      <td>Raleigh</td>\n",
       "      <td>NC</td>\n",
       "      <td>...</td>\n",
       "      <td>1.175</td>\n",
       "      <td>8.54</td>\n",
       "      <td>NaN</td>\n",
       "      <td>51.606</td>\n",
       "      <td>1691705.0</td>\n",
       "      <td>1.57</td>\n",
       "      <td>6.857524e+07</td>\n",
       "      <td>1.141075e+10</td>\n",
       "      <td>137.50</td>\n",
       "      <td>0.25</td>\n",
       "    </tr>\n",
       "    <tr>\n",
       "      <th>3</th>\n",
       "      <td>AAPL</td>\n",
       "      <td>Apple Inc. - Common Stock</td>\n",
       "      <td>Q</td>\n",
       "      <td>N</td>\n",
       "      <td>N</td>\n",
       "      <td>95014</td>\n",
       "      <td>Technology</td>\n",
       "      <td>137000.0</td>\n",
       "      <td>Cupertino</td>\n",
       "      <td>CA</td>\n",
       "      <td>...</td>\n",
       "      <td>5.108</td>\n",
       "      <td>14.73</td>\n",
       "      <td>NaN</td>\n",
       "      <td>18.137</td>\n",
       "      <td>33592445.0</td>\n",
       "      <td>0.89</td>\n",
       "      <td>4.329827e+09</td>\n",
       "      <td>1.368917e+12</td>\n",
       "      <td>316.14</td>\n",
       "      <td>0.82</td>\n",
       "    </tr>\n",
       "    <tr>\n",
       "      <th>4</th>\n",
       "      <td>AAT</td>\n",
       "      <td>American Assets Trust, Inc. Common Stock</td>\n",
       "      <td>N</td>\n",
       "      <td>N</td>\n",
       "      <td>NaN</td>\n",
       "      <td>92130</td>\n",
       "      <td>Real Estate</td>\n",
       "      <td>205.0</td>\n",
       "      <td>San Diego</td>\n",
       "      <td>CA</td>\n",
       "      <td>...</td>\n",
       "      <td>7.849</td>\n",
       "      <td>1.35</td>\n",
       "      <td>NaN</td>\n",
       "      <td>21.713</td>\n",
       "      <td>706006.0</td>\n",
       "      <td>1.70</td>\n",
       "      <td>5.308802e+07</td>\n",
       "      <td>2.936203e+09</td>\n",
       "      <td>28.01</td>\n",
       "      <td>0.30</td>\n",
       "    </tr>\n",
       "  </tbody>\n",
       "</table>\n",
       "<p>5 rows × 40 columns</p>\n",
       "</div>"
      ],
      "text/plain": [
       "  symbol                                      security_name listing_exchange  \\\n",
       "0      A            Agilent Technologies, Inc. Common Stock                N   \n",
       "1    AAL       American Airlines Group, Inc. - Common Stock                Q   \n",
       "2    AAP  Advance Auto Parts Inc Advance Auto Parts Inc W/I                N   \n",
       "3   AAPL                          Apple Inc. - Common Stock                Q   \n",
       "4    AAT           American Assets Trust, Inc. Common Stock                N   \n",
       "\n",
       "  etf financial_status    zip             sector  fullTimeEmployees  \\\n",
       "0   N              NaN  95051         Healthcare            16300.0   \n",
       "1   N                N  76155        Industrials           131500.0   \n",
       "2   N              NaN  27604  Consumer Cyclical            39000.0   \n",
       "3   N                N  95014         Technology           137000.0   \n",
       "4   N              NaN  92130        Real Estate              205.0   \n",
       "\n",
       "          city state  ... enterpriseToRevenue forwardEps  \\\n",
       "0  Santa Clara    CA  ...               4.987       3.57   \n",
       "1   Fort Worth    TX  ...               0.796      -0.04   \n",
       "2      Raleigh    NC  ...               1.175       8.54   \n",
       "3    Cupertino    CA  ...               5.108      14.73   \n",
       "4    San Diego    CA  ...               7.849       1.35   \n",
       "\n",
       "   revenueQuarterlyGrowth  bookValue  sharesShort  shortRatio   floatShares  \\\n",
       "0                     NaN     15.636    5258241.0        2.55  3.085180e+08   \n",
       "1                     NaN     -6.233  119303588.0        1.49  4.167541e+08   \n",
       "2                     NaN     51.606    1691705.0        1.57  6.857524e+07   \n",
       "3                     NaN     18.137   33592445.0        0.89  4.329827e+09   \n",
       "4                     NaN     21.713     706006.0        1.70  5.308802e+07   \n",
       "\n",
       "   enterpriseValue  regularMarketPrice  latest_dividend  \n",
       "0     2.611031e+10               86.30             0.18  \n",
       "1     3.478515e+10               12.43             0.10  \n",
       "2     1.141075e+10              137.50             0.25  \n",
       "3     1.368917e+12              316.14             0.82  \n",
       "4     2.936203e+09               28.01             0.30  \n",
       "\n",
       "[5 rows x 40 columns]"
      ]
     },
     "execution_count": 65,
     "metadata": {},
     "output_type": "execute_result"
    }
   ],
   "source": [
    "div_stocks_df.head()"
   ]
  },
  {
   "cell_type": "code",
   "execution_count": 66,
   "metadata": {},
   "outputs": [
    {
     "data": {
      "text/plain": [
       "(1939, 40)"
      ]
     },
     "execution_count": 66,
     "metadata": {},
     "output_type": "execute_result"
    }
   ],
   "source": [
    "div_stocks_df.shape"
   ]
  },
  {
   "cell_type": "code",
   "execution_count": 67,
   "metadata": {},
   "outputs": [
    {
     "data": {
      "text/plain": [
       "symbol                            0\n",
       "security_name                     0\n",
       "listing_exchange                  0\n",
       "etf                               0\n",
       "financial_status               1305\n",
       "zip                              20\n",
       "sector                           13\n",
       "fullTimeEmployees               569\n",
       "city                              2\n",
       "state                           157\n",
       "country                           0\n",
       "industry                         13\n",
       "twoHundredDayAverage              0\n",
       "trailingAnnualDividendYield     170\n",
       "averageDailyVolume10Day           0\n",
       "regularMarketPreviousClose        0\n",
       "open                              0\n",
       "averageVolume10days               0\n",
       "dividendRate                      0\n",
       "regularMarketVolume               0\n",
       "marketCap                        17\n",
       "averageVolume                     0\n",
       "dayLow                            0\n",
       "ask                               0\n",
       "fiftyTwoWeekHigh                  0\n",
       "forwardPE                       588\n",
       "fiveYearAvgDividendYield        428\n",
       "dividendYield                     1\n",
       "bidSize                           0\n",
       "dayHigh                           0\n",
       "enterpriseToRevenue             223\n",
       "forwardEps                      586\n",
       "revenueQuarterlyGrowth         1939\n",
       "bookValue                       145\n",
       "sharesShort                      84\n",
       "shortRatio                       85\n",
       "floatShares                     435\n",
       "enterpriseValue                 119\n",
       "regularMarketPrice                0\n",
       "latest_dividend                   0\n",
       "dtype: int64"
      ]
     },
     "execution_count": 67,
     "metadata": {},
     "output_type": "execute_result"
    }
   ],
   "source": [
    "div_stocks_df.isna().sum()"
   ]
  },
  {
   "cell_type": "code",
   "execution_count": 68,
   "metadata": {},
   "outputs": [],
   "source": [
    "# Find out what to do with all the null data"
   ]
  },
  {
   "cell_type": "code",
   "execution_count": 69,
   "metadata": {},
   "outputs": [
    {
     "data": {
      "text/plain": [
       "array([nan, 'N', 'D', 'E'], dtype=object)"
      ]
     },
     "execution_count": 69,
     "metadata": {},
     "output_type": "execute_result"
    }
   ],
   "source": [
    "full_fin_stocks_df['financial_status'].unique()"
   ]
  },
  {
   "cell_type": "code",
   "execution_count": 70,
   "metadata": {},
   "outputs": [
    {
     "data": {
      "text/plain": [
       "3213"
      ]
     },
     "execution_count": 70,
     "metadata": {},
     "output_type": "execute_result"
    }
   ],
   "source": [
    "full_fin_stocks_df['financial_status'].isna().sum()"
   ]
  },
  {
   "cell_type": "code",
   "execution_count": 71,
   "metadata": {},
   "outputs": [],
   "source": [
    "full_fin_stocks_df.drop(['financial_status'],axis=1, inplace =True)"
   ]
  },
  {
   "cell_type": "code",
   "execution_count": null,
   "metadata": {},
   "outputs": [],
   "source": []
  },
  {
   "cell_type": "code",
   "execution_count": 72,
   "metadata": {},
   "outputs": [
    {
     "data": {
      "text/plain": [
       "Index(['symbol', 'security_name', 'listing_exchange', 'etf',\n",
       "       'financial_status', 'zip', 'sector', 'fullTimeEmployees', 'city',\n",
       "       'state', 'country', 'industry', 'twoHundredDayAverage',\n",
       "       'trailingAnnualDividendYield', 'averageDailyVolume10Day',\n",
       "       'regularMarketPreviousClose', 'open', 'averageVolume10days',\n",
       "       'dividendRate', 'regularMarketVolume', 'marketCap', 'averageVolume',\n",
       "       'dayLow', 'ask', 'fiftyTwoWeekHigh', 'forwardPE',\n",
       "       'fiveYearAvgDividendYield', 'dividendYield', 'bidSize', 'dayHigh',\n",
       "       'enterpriseToRevenue', 'forwardEps', 'revenueQuarterlyGrowth',\n",
       "       'bookValue', 'sharesShort', 'shortRatio', 'floatShares',\n",
       "       'enterpriseValue', 'regularMarketPrice', 'latest_dividend'],\n",
       "      dtype='object')"
      ]
     },
     "execution_count": 72,
     "metadata": {},
     "output_type": "execute_result"
    }
   ],
   "source": [
    "div_stocks_df.columns"
   ]
  },
  {
   "cell_type": "code",
   "execution_count": 73,
   "metadata": {},
   "outputs": [],
   "source": [
    "avg_div_feps = div_stocks_df.groupby('sector').agg({'forwardEps':'mean'}).reset_index()"
   ]
  },
  {
   "cell_type": "code",
   "execution_count": 74,
   "metadata": {},
   "outputs": [],
   "source": [
    "avg_div_feps = avg_div_feps.sort_values('forwardEps',ascending=False)"
   ]
  },
  {
   "cell_type": "code",
   "execution_count": 75,
   "metadata": {},
   "outputs": [
    {
     "data": {
      "image/png": "[encoded data removed]",
      "text/plain": [
       "<Figure size 432x288 with 1 Axes>"
      ]
     },
     "metadata": {
      "needs_background": "light"
     },
     "output_type": "display_data"
    }
   ],
   "source": [
    "sns.barplot(data = avg_div_feps ,x='sector',y='forwardEps');\n",
    "plt.xticks(rotation=90);\n",
    "plt.title(\"Average forward Eps per Sector\");"
   ]
  },
  {
   "cell_type": "code",
   "execution_count": 76,
   "metadata": {},
   "outputs": [],
   "source": [
    "avg_div_ss = div_stocks_df.groupby('sector').agg({'sharesShort':'mean'}).reset_index()"
   ]
  },
  {
   "cell_type": "code",
   "execution_count": 77,
   "metadata": {},
   "outputs": [],
   "source": [
    "avg_div_ss = avg_div_ss.sort_values('sharesShort',ascending=False)"
   ]
  },
  {
   "cell_type": "code",
   "execution_count": 78,
   "metadata": {},
   "outputs": [
    {
     "data": {
      "image/png": "[encoded data removed]",
      "text/plain": [
       "<Figure size 432x288 with 1 Axes>"
      ]
     },
     "metadata": {
      "needs_background": "light"
     },
     "output_type": "display_data"
    }
   ],
   "source": [
    "sns.barplot(data = avg_div_ss ,x='sector',y='sharesShort');\n",
    "plt.xticks(rotation=90);\n",
    "plt.title(\"Average shares Short per Sector\");"
   ]
  },
  {
   "cell_type": "code",
   "execution_count": 79,
   "metadata": {},
   "outputs": [],
   "source": [
    "avg_div_fs = div_stocks_df.groupby('sector').agg({'floatShares':'mean'}).reset_index()"
   ]
  },
  {
   "cell_type": "code",
   "execution_count": 80,
   "metadata": {},
   "outputs": [],
   "source": [
    "avg_div_fs = avg_div_fs.sort_values('floatShares',ascending=False)"
   ]
  },
  {
   "cell_type": "code",
   "execution_count": 81,
   "metadata": {},
   "outputs": [
    {
     "data": {
      "image/png": "[encoded data removed]",
      "text/plain": [
       "<Figure size 432x288 with 1 Axes>"
      ]
     },
     "metadata": {
      "needs_background": "light"
     },
     "output_type": "display_data"
    }
   ],
   "source": [
    "sns.barplot(data = avg_div_fs ,x='sector',y='floatShares');\n",
    "plt.xticks(rotation=90);\n",
    "plt.title(\"Average floatShares per Sector\");"
   ]
  },
  {
   "cell_type": "code",
   "execution_count": null,
   "metadata": {},
   "outputs": [],
   "source": []
  },
  {
   "cell_type": "code",
   "execution_count": null,
   "metadata": {},
   "outputs": [],
   "source": []
  },
  {
   "cell_type": "code",
   "execution_count": null,
   "metadata": {},
   "outputs": [],
   "source": []
  },
  {
   "cell_type": "code",
   "execution_count": null,
   "metadata": {},
   "outputs": [],
   "source": []
  },
  {
   "cell_type": "code",
   "execution_count": 82,
   "metadata": {},
   "outputs": [
    {
     "data": {
      "text/plain": [
       "Index(['symbol', 'security_name', 'listing_exchange', 'etf', 'zip', 'sector',\n",
       "       'fullTimeEmployees', 'city', 'state', 'country', 'industry',\n",
       "       'twoHundredDayAverage', 'trailingAnnualDividendYield',\n",
       "       'averageDailyVolume10Day', 'regularMarketPreviousClose', 'open',\n",
       "       'averageVolume10days', 'dividendRate', 'regularMarketVolume',\n",
       "       'marketCap', 'averageVolume', 'dayLow', 'ask', 'fiftyTwoWeekHigh',\n",
       "       'forwardPE', 'fiveYearAvgDividendYield', 'dividendYield', 'bidSize',\n",
       "       'dayHigh', 'enterpriseToRevenue', 'forwardEps', 'bookValue',\n",
       "       'sharesShort', 'shortRatio', 'floatShares', 'enterpriseValue',\n",
       "       'regularMarketPrice', 'latest_dividend'],\n",
       "      dtype='object')"
      ]
     },
     "execution_count": 82,
     "metadata": {},
     "output_type": "execute_result"
    }
   ],
   "source": [
    "full_fin_stocks_df.columns"
   ]
  },
  {
   "cell_type": "code",
   "execution_count": 83,
   "metadata": {},
   "outputs": [],
   "source": [
    "div_stocks_df.drop(['revenueQuarterlyGrowth'],axis=1, inplace =True)"
   ]
  },
  {
   "cell_type": "code",
   "execution_count": 84,
   "metadata": {},
   "outputs": [],
   "source": [
    "avg_div_vol = div_stocks_df.groupby('sector').agg({'averageVolume':'mean'}).reset_index()"
   ]
  },
  {
   "cell_type": "code",
   "execution_count": 85,
   "metadata": {},
   "outputs": [],
   "source": [
    "avg_entv_sect = avg_entv_sect.sort_values('enterpriseValue',ascending=False)"
   ]
  },
  {
   "cell_type": "code",
   "execution_count": 86,
   "metadata": {},
   "outputs": [
    {
     "data": {
      "image/png": "[encoded data removed]",
      "text/plain": [
       "<Figure size 432x288 with 1 Axes>"
      ]
     },
     "metadata": {
      "needs_background": "light"
     },
     "output_type": "display_data"
    }
   ],
   "source": [
    "sns.barplot(data = avg_entv_sect ,x='sector',y='enterpriseValue');\n",
    "plt.xticks(rotation=90);\n",
    "plt.title(\"Average Enterprise Value per Sector\");"
   ]
  },
  {
   "cell_type": "code",
   "execution_count": 88,
   "metadata": {},
   "outputs": [],
   "source": [
    "avg_div_ask = div_stocks_df.groupby('sector').agg({'ask':'mean'}).reset_index()"
   ]
  },
  {
   "cell_type": "code",
   "execution_count": 89,
   "metadata": {},
   "outputs": [],
   "source": [
    "avg_div_ask = avg_div_ask.sort_values('ask',ascending=False)"
   ]
  },
  {
   "cell_type": "code",
   "execution_count": 90,
   "metadata": {},
   "outputs": [
    {
     "data": {
      "image/png": "[encoded data removed]",
      "text/plain": [
       "<Figure size 432x288 with 1 Axes>"
      ]
     },
     "metadata": {
      "needs_background": "light"
     },
     "output_type": "display_data"
    }
   ],
   "source": [
    "sns.barplot(data = avg_div_ask ,x='sector',y='ask');\n",
    "plt.xticks(rotation=90);\n",
    "plt.title(\"Average ask per Sector\");"
   ]
  },
  {
   "cell_type": "code",
   "execution_count": null,
   "metadata": {},
   "outputs": [],
   "source": []
  },
  {
   "cell_type": "code",
   "execution_count": null,
   "metadata": {},
   "outputs": [],
   "source": []
  },
  {
   "cell_type": "markdown",
   "metadata": {},
   "source": [
    "# NEXT TIME DO A GROUPBY ON THE \"INDUSTRY\" COLUMN"
   ]
  },
  {
   "cell_type": "code",
   "execution_count": 87,
   "metadata": {},
   "outputs": [
    {
     "data": {
      "text/plain": [
       "Index(['symbol', 'security_name', 'listing_exchange', 'etf',\n",
       "       'financial_status', 'zip', 'sector', 'fullTimeEmployees', 'city',\n",
       "       'state', 'country', 'industry', 'twoHundredDayAverage',\n",
       "       'trailingAnnualDividendYield', 'averageDailyVolume10Day',\n",
       "       'regularMarketPreviousClose', 'open', 'averageVolume10days',\n",
       "       'dividendRate', 'regularMarketVolume', 'marketCap', 'averageVolume',\n",
       "       'dayLow', 'ask', 'fiftyTwoWeekHigh', 'forwardPE',\n",
       "       'fiveYearAvgDividendYield', 'dividendYield', 'bidSize', 'dayHigh',\n",
       "       'enterpriseToRevenue', 'forwardEps', 'bookValue', 'sharesShort',\n",
       "       'shortRatio', 'floatShares', 'enterpriseValue', 'regularMarketPrice',\n",
       "       'latest_dividend'],\n",
       "      dtype='object')"
      ]
     },
     "execution_count": 87,
     "metadata": {},
     "output_type": "execute_result"
    }
   ],
   "source": [
    "div_stocks_df.columns"
   ]
  },
  {
   "cell_type": "code",
   "execution_count": 91,
   "metadata": {},
   "outputs": [
    {
     "data": {
      "text/plain": [
       "143"
      ]
     },
     "execution_count": 91,
     "metadata": {},
     "output_type": "execute_result"
    }
   ],
   "source": [
    "div_stocks_df['industry'].nunique()"
   ]
  },
  {
   "cell_type": "code",
   "execution_count": null,
   "metadata": {},
   "outputs": [],
   "source": [
    "# scatter plot of market cap and avg volume"
   ]
  },
  {
   "cell_type": "code",
   "execution_count": 92,
   "metadata": {},
   "outputs": [
    {
     "data": {
      "text/plain": [
       "<matplotlib.axes._subplots.AxesSubplot at 0x1222a8048>"
      ]
     },
     "execution_count": 92,
     "metadata": {},
     "output_type": "execute_result"
    },
    {
     "data": {
      "image/png": "[encoded data removed]",
      "text/plain": [
       "<Figure size 432x288 with 1 Axes>"
      ]
     },
     "metadata": {
      "needs_background": "light"
     },
     "output_type": "display_data"
    }
   ],
   "source": [
    "sns.scatterplot(data=div_stocks_df,x=div_stocks_df['averageVolume'],y=div_stocks_df['marketCap'])"
   ]
  },
  {
   "cell_type": "code",
   "execution_count": null,
   "metadata": {},
   "outputs": [],
   "source": []
  }
 ],
 "metadata": {
  "kernelspec": {
   "display_name": "Python 3",
   "language": "python",
   "name": "python3"
  },
  "language_info": {
   "codemirror_mode": {
    "name": "ipython",
    "version": 3
   },
   "file_extension": ".py",
   "mimetype": "text/x-python",
   "name": "python",
   "nbconvert_exporter": "python",
   "pygments_lexer": "ipython3",
   "version": "3.7.3"
  }
 },
 "nbformat": 4,
 "nbformat_minor": 4
}
